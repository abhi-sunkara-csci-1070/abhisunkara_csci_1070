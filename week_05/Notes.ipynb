{
 "cells": [
  {
   "cell_type": "code",
   "execution_count": 1,
   "id": "f7275f7e-60ae-4adb-9e49-4fdf6c815d64",
   "metadata": {},
   "outputs": [],
   "source": [
    "#Probability - How likely something occurs\n",
    "#Random variable - A random variable, x, is a variable where the possible outcomes are a function of random phenomena\n",
    "#Random seed - Referring to a particular list\n",
    "#Discrete - Very specific\n",
    "#Continuous graphs - infinite amount of options (height, rianfall, weight)\n",
    "#Uniform distribution - All outcomes have the same probability (coin tosses)\n",
    "#Binomial distribution - Bell curve\n",
    "\n",
    "#Expected value - \n",
    "#Law of large numbers - As the sample size increases the sample means gets closer to the population mean\n",
    "#Unform Distributuon - The expected value is (a+b)/2, where a is the maximum possible value and b is the minimum\n",
    "#Binomial Distribution - Mean is the expected value, which is equal to n trials * p probability\n",
    "#Standard normal distribution - mean is the expected value\n",
    "\n",
    "#What is the point of creating a random seed in probability?\n",
    "#It is good to use for a pusedorandom generator. You can also share the results across different machines if the user has access to the seed\n",
    "\n",
    "#What is the expected value for the number of heads in 50 trials of coin tosses?\n",
    "#25 heads, 25 tails\n",
    "\n",
    "#Preprocessing - Cleaning up null values; Data cleaning (dashes, odd characters, etc); One-Hot encoding; Convert Catgeorical values to numerical\n"
   ]
  },
  {
   "cell_type": "code",
   "execution_count": 2,
   "id": "98a3ebba-0846-4aab-8716-65c9b59e8d5d",
   "metadata": {},
   "outputs": [],
   "source": [
    "import numpy as pd\n",
    "import pandas"
   ]
  },
  {
   "cell_type": "code",
   "execution_count": 3,
   "id": "c4a1ef48-adac-4f85-b8e7-bbf6a2c00e26",
   "metadata": {},
   "outputs": [
    {
     "ename": "AttributeError",
     "evalue": "module 'numpy' has no attribute 'read_csv'",
     "output_type": "error",
     "traceback": [
      "\u001b[0;31m---------------------------------------------------------------------------\u001b[0m",
      "\u001b[0;31mAttributeError\u001b[0m                            Traceback (most recent call last)",
      "Cell \u001b[0;32mIn[3], line 1\u001b[0m\n\u001b[0;32m----> 1\u001b[0m data_df \u001b[38;5;241m=\u001b[39m \u001b[43mpd\u001b[49m\u001b[38;5;241;43m.\u001b[39;49m\u001b[43mread_csv\u001b[49m(\u001b[38;5;124m\"\u001b[39m\u001b[38;5;124mJEOPARDY_DATA.csv\u001b[39m\u001b[38;5;124m\"\u001b[39m)\n\u001b[1;32m      2\u001b[0m data_df\u001b[38;5;241m.\u001b[39mhead()\n",
      "File \u001b[0;32m/opt/homebrew/Cellar/jupyterlab/4.2.5/libexec/lib/python3.12/site-packages/numpy/__init__.py:414\u001b[0m, in \u001b[0;36m__getattr__\u001b[0;34m(attr)\u001b[0m\n\u001b[1;32m    411\u001b[0m     \u001b[38;5;28;01mimport\u001b[39;00m \u001b[38;5;21;01mnumpy\u001b[39;00m\u001b[38;5;21;01m.\u001b[39;00m\u001b[38;5;21;01mchar\u001b[39;00m \u001b[38;5;28;01mas\u001b[39;00m \u001b[38;5;21;01mchar\u001b[39;00m\n\u001b[1;32m    412\u001b[0m     \u001b[38;5;28;01mreturn\u001b[39;00m char\u001b[38;5;241m.\u001b[39mchararray\n\u001b[0;32m--> 414\u001b[0m \u001b[38;5;28;01mraise\u001b[39;00m \u001b[38;5;167;01mAttributeError\u001b[39;00m(\u001b[38;5;124m\"\u001b[39m\u001b[38;5;124mmodule \u001b[39m\u001b[38;5;132;01m{!r}\u001b[39;00m\u001b[38;5;124m has no attribute \u001b[39m\u001b[38;5;124m\"\u001b[39m\n\u001b[1;32m    415\u001b[0m                      \u001b[38;5;124m\"\u001b[39m\u001b[38;5;132;01m{!r}\u001b[39;00m\u001b[38;5;124m\"\u001b[39m\u001b[38;5;241m.\u001b[39mformat(\u001b[38;5;18m__name__\u001b[39m, attr))\n",
      "\u001b[0;31mAttributeError\u001b[0m: module 'numpy' has no attribute 'read_csv'"
     ]
    }
   ],
   "source": [
    "data_df = pd.read_csv(\"JEOPARDY_DATA.csv\")\n",
    "data_df.head()"
   ]
  },
  {
   "cell_type": "code",
   "execution_count": null,
   "id": "ac139bfe-ba81-4f90-98e4-b025d8a6888b",
   "metadata": {},
   "outputs": [],
   "source": []
  }
 ],
 "metadata": {
  "kernelspec": {
   "display_name": "Python 3 (ipykernel)",
   "language": "python",
   "name": "python3"
  },
  "language_info": {
   "codemirror_mode": {
    "name": "ipython",
    "version": 3
   },
   "file_extension": ".py",
   "mimetype": "text/x-python",
   "name": "python",
   "nbconvert_exporter": "python",
   "pygments_lexer": "ipython3",
   "version": "3.12.6"
  }
 },
 "nbformat": 4,
 "nbformat_minor": 5
}
