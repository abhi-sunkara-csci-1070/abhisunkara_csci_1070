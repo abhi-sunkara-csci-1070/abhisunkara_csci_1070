{
 "cells": [
  {
   "cell_type": "code",
   "execution_count": 8,
   "id": "31ea4b8e-5da3-449f-9b21-7759dcaf1a61",
   "metadata": {},
   "outputs": [],
   "source": [
    "from typing import List"
   ]
  },
  {
   "cell_type": "code",
   "execution_count": 25,
   "id": "cb6cbeab-8944-4c8d-8757-56e5448b76d6",
   "metadata": {},
   "outputs": [
    {
     "name": "stdout",
     "output_type": "stream",
     "text": [
      "['a', 'b']\n"
     ]
    }
   ],
   "source": [
    "def non_numeric(values: List) -> List:\n",
    "    non_numeric = []\n",
    "    for a in values:\n",
    "        if not isinstance(a, (int, float)):\n",
    "            non_numeric += a\n",
    "    return non_numeric\n",
    "\n",
    "e = [1,2, \"a\", \"b\", 7.6]\n",
    "print(non_numeric(e))"
   ]
  },
  {
   "cell_type": "code",
   "execution_count": 24,
   "id": "9808c0f6-b8f4-4a11-a922-64e3cd8e4ec5",
   "metadata": {},
   "outputs": [
    {
     "name": "stdout",
     "output_type": "stream",
     "text": [
      "[1, 2, (3, 'fizz'), 4, (5, 'buzz'), (6, 'fizz'), 7, 8, (9, 'fizz')]\n",
      "[1, 2, (3, 'fizz'), 4, (5, 'buzz'), (6, 'fizz'), 7, 8, (9, 'fizz'), (10, 'buzz'), 11, (12, 'fizz'), 13, 14, (15, 'fizzbuzz')]\n"
     ]
    }
   ],
   "source": [
    "def fizzbuzz(a: int = 100) -> List:\n",
    "    # Stores final output in a new list\n",
    "    b = []\n",
    "    for x in range(1, a + 1):\n",
    "        # If x is a multiple of 3 and 5\n",
    "        if x % 3 == 0 and x % 5 == 0:\n",
    "            b.append((x, \"fizzbuzz\"))\n",
    "        # If x is a multiple of just 3\n",
    "        elif x % 3 == 0:\n",
    "            b.append((x, \"fizz\"))\n",
    "        # If x is just a multiple of 5\n",
    "        elif x % 5 == 0:\n",
    "            b.append((x, \"buzz\"))\n",
    "        # If none of the numbers follow the first three statements, the number appends\n",
    "        else:\n",
    "            b.append(x)\n",
    "\n",
    "    return b\n",
    "\n",
    "#Example\n",
    "print(fizzbuzz(9))\n",
    "print(fizzbuzz(15))\n",
    "        \n",
    "    \n",
    "    "
   ]
  }
 ],
 "metadata": {
  "kernelspec": {
   "display_name": "Python 3 (ipykernel)",
   "language": "python",
   "name": "python3"
  },
  "language_info": {
   "codemirror_mode": {
    "name": "ipython",
    "version": 3
   },
   "file_extension": ".py",
   "mimetype": "text/x-python",
   "name": "python",
   "nbconvert_exporter": "python",
   "pygments_lexer": "ipython3",
   "version": "3.12.6"
  }
 },
 "nbformat": 4,
 "nbformat_minor": 5
}
