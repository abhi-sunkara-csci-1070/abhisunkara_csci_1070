{
 "cells": [
  {
   "cell_type": "code",
   "execution_count": null,
   "id": "fbd842b8-39fd-4a62-8e32-37817ad9b081",
   "metadata": {},
   "outputs": [],
   "source": [
    "# Create a list of at least 5 desserts and access every second one.\n",
    "# access the last three "
   ]
  },
  {
   "cell_type": "code",
   "execution_count": 2,
   "id": "ae33e21c-043b-4b0c-bfe1-f3ccebf4061d",
   "metadata": {},
   "outputs": [
    {
     "name": "stdout",
     "output_type": "stream",
     "text": [
      "['Cakes', 'Donuts']\n",
      "['Sherbert', 'Donuts', 'Scones']\n"
     ]
    }
   ],
   "source": [
    "desserts_tuple = [\"Ice cream\", \"Cakes\", \"Sherbert\", \"Donuts\", \"Scones\"]\n",
    "x = slice(1,5,2)\n",
    "y = slice(2,5,)\n",
    "print(desserts_tuple[x])\n",
    "print(desserts_tuple[y])"
   ]
  },
  {
   "cell_type": "code",
   "execution_count": 10,
   "id": "594f26b9-d4a3-443e-9805-2bb8fb941437",
   "metadata": {},
   "outputs": [
    {
     "name": "stdin",
     "output_type": "stream",
     "text": [
      "How many colleges did you apply to? 9\n"
     ]
    },
    {
     "name": "stdout",
     "output_type": "stream",
     "text": [
      "A pretty average amount of submitted college apps\n"
     ]
    }
   ],
   "source": [
    "x = int(input(\"How many colleges did you apply to?\"))\n",
    "\n",
    "if x < 5:\n",
    "    print(\"Wow that little?\")\n",
    "elif x > 5 & x < 7:\n",
    "    print(\"A pretty average amount of submitted college apps\")\n",
    "else:\n",
    "    print(\"Now that was a lot of college apps submited\")\n"
   ]
  },
  {
   "cell_type": "code",
   "execution_count": 3,
   "id": "368fdcfc-dbfd-4b34-8438-9b3093fd1f38",
   "metadata": {},
   "outputs": [
    {
     "name": "stdout",
     "output_type": "stream",
     "text": [
      "The variable x has a value of 1\n",
      "The variable x has a value of 14\n"
     ]
    }
   ],
   "source": [
    "number_tuple = [1,2]\n",
    "\n",
    "print(\"The variable x has a value of\", number_tuple[0])\n",
    "\n",
    "x = 14\n",
    "\n",
    "print(\"The variable x has a value of\", x)"
   ]
  },
  {
   "cell_type": "code",
   "execution_count": null,
   "id": "4b5ec256-6469-4308-be2e-d809d4b4f45a",
   "metadata": {},
   "outputs": [],
   "source": [
    "#string concatentaion\n",
    "\n",
    "x = 'a banana'\n",
    "\n",
    "print(\"The variable x has a value of\", x)\n",
    "\n",
    "#flow control: Controllimg how you move through in a file. If, elif, else, for, while, range"
   ]
  },
  {
   "cell_type": "code",
   "execution_count": 7,
   "id": "8d7f4216-5cc5-487e-9a69-9f7768957f04",
   "metadata": {},
   "outputs": [
    {
     "name": "stdout",
     "output_type": "stream",
     "text": [
      "January\n",
      "February\n",
      "March\n",
      "April\n",
      "May\n",
      "June\n",
      "July\n",
      "August is my birthday\n",
      "September\n",
      "October\n",
      "November\n",
      "December\n"
     ]
    }
   ],
   "source": [
    "dob = \"August\"\n",
    "months = [\"January\",\"February\",\"March\",\"April\",\"May\",\"June\",\"July\",\"August\",\"September\",\"October\",\"November\",\"December\"] \n",
    "for x in months:\n",
    "    if x == dob:\n",
    "        print(x, \"is my birthday\")\n",
    "    else:\n",
    "        print(x)\n",
    "    "
   ]
  },
  {
   "cell_type": "code",
   "execution_count": null,
   "id": "21e13324-829a-4897-bfd4-e0ba3db9db51",
   "metadata": {},
   "outputs": [],
   "source": []
  }
 ],
 "metadata": {
  "kernelspec": {
   "display_name": "Python 3 (ipykernel)",
   "language": "python",
   "name": "python3"
  },
  "language_info": {
   "codemirror_mode": {
    "name": "ipython",
    "version": 3
   },
   "file_extension": ".py",
   "mimetype": "text/x-python",
   "name": "python",
   "nbconvert_exporter": "python",
   "pygments_lexer": "ipython3",
   "version": "3.12.5"
  }
 },
 "nbformat": 4,
 "nbformat_minor": 5
}
