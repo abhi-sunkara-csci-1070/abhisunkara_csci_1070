{
 "cells": [
  {
   "cell_type": "code",
   "execution_count": null,
   "id": "8445b84b-5fd1-426d-ae6d-9238953cfee8",
   "metadata": {},
   "outputs": [],
   "source": [
    "print (x)\n",
    "# to get hints on a function, put yout cursor in the function and press shift-tab"
   ]
  },
  {
   "cell_type": "code",
   "execution_count": 5,
   "id": "d8c6e486-8b01-4e5e-b4b6-627440a44ba6",
   "metadata": {},
   "outputs": [],
   "source": [
    "float\n",
    "\n",
    "#dictionaries are key: value pairs\n",
    "Breakfest = {\n",
    "    \"pancakes\": 10,\n",
    "    \"bacon\": 20,\n",
    "    \"Ben\" : 13\n",
    "}"
   ]
  },
  {
   "cell_type": "code",
   "execution_count": 6,
   "id": "a9529c37-fd28-41ef-8bb3-ef80233c2ea6",
   "metadata": {},
   "outputs": [
    {
     "name": "stdout",
     "output_type": "stream",
     "text": [
      "13\n"
     ]
    }
   ],
   "source": [
    "print(Breakfest[\"Ben\"]);\n"
   ]
  },
  {
   "cell_type": "code",
   "execution_count": 3,
   "id": "be75a430-5326-4785-960e-7e35afee81c7",
   "metadata": {},
   "outputs": [
    {
     "ename": "NameError",
     "evalue": "name 'breakfast' is not defined",
     "output_type": "error",
     "traceback": [
      "\u001b[0;31m---------------------------------------------------------------------------\u001b[0m",
      "\u001b[0;31mNameError\u001b[0m                                 Traceback (most recent call last)",
      "Cell \u001b[0;32mIn[3], line 1\u001b[0m\n\u001b[0;32m----> 1\u001b[0m \u001b[43mbreakfast\u001b[49m\u001b[38;5;241m.\u001b[39madd(\u001b[38;5;124m\"\u001b[39m\u001b[38;5;124mbacon\u001b[39m\u001b[38;5;124m\"\u001b[39m)\n\u001b[1;32m      2\u001b[0m \u001b[38;5;28mprint\u001b[39m(breakfest\u001b[38;5;241m.\u001b[39madd)\n",
      "\u001b[0;31mNameError\u001b[0m: name 'breakfast' is not defined"
     ]
    }
   ],
   "source": [
    "breakfast.add(\"bacon\")\n",
    "print(breakfest.add)"
   ]
  },
  {
   "cell_type": "code",
   "execution_count": null,
   "id": "2b2ea0ec-d692-46b6-bf52-567471a11994",
   "metadata": {},
   "outputs": [],
   "source": [
    "#list values can be changed and they are ordered\n",
    "#we count starting at 0. So, Januray is item 0, but there are still 3 items in this list\n",
    "months = [\"January\", \"Feburary\", \"March\"]\n",
    "months [2]"
   ]
  },
  {
   "cell_type": "code",
   "execution_count": 18,
   "id": "bfd9fb47-5085-44f8-a684-0b7820033f2e",
   "metadata": {},
   "outputs": [
    {
     "data": {
      "text/plain": [
       "'coffee'"
      ]
     },
     "execution_count": 18,
     "metadata": {},
     "output_type": "execute_result"
    }
   ],
   "source": [
    "#tuples are ordered but unchangeable (immutable)\n",
    "breakfest_tuple = (\"coffee\", \"bagels\", \"cereal\")\n",
    "breakfest_tuple[0]"
   ]
  },
  {
   "cell_type": "code",
   "execution_count": null,
   "id": "bb452361-aae7-48c4-95eb-679da871557a",
   "metadata": {},
   "outputs": [],
   "source": []
  },
  {
   "cell_type": "code",
   "execution_count": 4,
   "id": "8bf983fe-2907-468d-9f49-c06f1ed62330",
   "metadata": {},
   "outputs": [
    {
     "name": "stdout",
     "output_type": "stream",
     "text": [
      "['b', 'c']\n"
     ]
    }
   ],
   "source": [
    "letters_tuple = [\"a\", \"b\", \"c\", \"d\", \"e\"]\n",
    "x = slice(1,3)\n",
    "print(letters_tuple[x])"
   ]
  },
  {
   "cell_type": "code",
   "execution_count": 16,
   "id": "5cb0836e-05fe-4e77-b611-91ae584b5d61",
   "metadata": {},
   "outputs": [
    {
     "name": "stdout",
     "output_type": "stream",
     "text": [
      "['a', 'd']\n"
     ]
    }
   ],
   "source": [
    "y = slice(0,5,3)\n",
    "print(letters_tuple[y])"
   ]
  },
  {
   "cell_type": "code",
   "execution_count": null,
   "id": "bd25a7b1-5e50-4672-82b7-bc1b4b9fd289",
   "metadata": {},
   "outputs": [],
   "source": [
    "Logic for slice: If u wanna skip one, do (0,a,2). to skip 2, do (0,a,3)"
   ]
  }
 ],
 "metadata": {
  "kernelspec": {
   "display_name": "Python 3 (ipykernel)",
   "language": "python",
   "name": "python3"
  },
  "language_info": {
   "codemirror_mode": {
    "name": "ipython",
    "version": 3
   },
   "file_extension": ".py",
   "mimetype": "text/x-python",
   "name": "python",
   "nbconvert_exporter": "python",
   "pygments_lexer": "ipython3",
   "version": "3.12.5"
  }
 },
 "nbformat": 4,
 "nbformat_minor": 5
}
