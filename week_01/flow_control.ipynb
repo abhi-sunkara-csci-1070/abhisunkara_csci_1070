{
 "cells": [
  {
   "cell_type": "code",
   "execution_count": null,
   "id": "f847e4ac-aedc-41ec-8f72-7bb9eb05dde7",
   "metadata": {},
   "outputs": [],
   "source": [
    "# Loopa and Fucntions\n",
    "\n",
    "#loops are flow control. Changes how code executes iteratively, how data moves\n",
    "#through the applicatiom\n",
    "#if ... (elif ... else)\n",
    "#if and else are optional. Depends on what youre trying to do\n",
    "#if a equals b, return \"they are equal\". If a is greater than b \"a is greater\"\n",
    "# and if b is greater than a, return \"b is greater\"\n",
    "\n",
    "# == is comparing whereas = is setting something equal to something else (assigning a value\n",
    "\n",
    "if a == b\n",
    "    print(\"they are equal\")\n",
    "elif a>b:\n",
    "    print(\"a is greater\")\n",
    "elif b>a:\n",
    "    print(\"b is greater\")\n"
   ]
  },
  {
   "cell_type": "code",
   "execution_count": 1,
   "id": "f21c13cd-45b6-40ca-a200-6e124f5720d2",
   "metadata": {},
   "outputs": [
    {
     "name": "stdout",
     "output_type": "stream",
     "text": [
      "7\n",
      "6\n",
      "5\n"
     ]
    }
   ],
   "source": [
    "#while loops\n",
    "# repeatedly test an expression and continue to run whatever is in the loop\n",
    "# until a stopping condition is met\n",
    "\n",
    "x=7\n",
    "while x >= 5:\n",
    "    print(x)\n",
    "    #decrement means to decrease. we decrement our x so it can stop\n",
    "    # x = x - 1\n",
    "    x-=1\n",
    "    "
   ]
  },
  {
   "cell_type": "code",
   "execution_count": 2,
   "id": "76ebf974-da0f-4664-84d0-4cbf21ad296f",
   "metadata": {},
   "outputs": [
    {
     "name": "stdout",
     "output_type": "stream",
     "text": [
      "3\n",
      "4\n",
      "5\n",
      "6\n",
      "7\n",
      "8\n",
      "9\n"
     ]
    }
   ],
   "source": [
    "#create a scenariuo where x starts at 3 and is incremented by 1 \n",
    "# you print the value of x while x is less than 10\n",
    "\n",
    "x = 3\n",
    "\n",
    "while x < 10:\n",
    "    print(x)\n",
    "    x += 1\n",
    "\n"
   ]
  },
  {
   "cell_type": "code",
   "execution_count": null,
   "id": "7d3be188-8273-4f8a-973c-5f42aae790dc",
   "metadata": {},
   "outputs": [],
   "source": [
    "cats = [\"Dexter\", \"Ben\", \"Sam\", \"Toby\"]\n",
    "    for z in cats:\n",
    "        print(z)\n",
    "        x +=1"
   ]
  },
  {
   "cell_type": "code",
   "execution_count": null,
   "id": "b17e5708-d198-4980-98f0-8834685b6138",
   "metadata": {},
   "outputs": [],
   "source": [
    "#if we want our code to be reusable, we use a function!\n",
    "# and variables we want to use in the function need to be passed in\n",
    "#\n",
    "\n",
    "def comparison(a,b):\n",
    "    if a == b:\n",
    "        return \"they are equal\"\n",
    "    elif a>b:\n",
    "        return \"a is greater\"\n",
    "    elif b>a:\n",
    "        return \"b is greater\""
   ]
  },
  {
   "cell_type": "code",
   "execution_count": 3,
   "id": "8a71dc97-eea0-42e3-b380-9a5ac38902d9",
   "metadata": {},
   "outputs": [
    {
     "ename": "NameError",
     "evalue": "name 'comparison' is not defined",
     "output_type": "error",
     "traceback": [
      "\u001b[0;31m---------------------------------------------------------------------------\u001b[0m",
      "\u001b[0;31mNameError\u001b[0m                                 Traceback (most recent call last)",
      "Cell \u001b[0;32mIn[3], line 1\u001b[0m\n\u001b[0;32m----> 1\u001b[0m \u001b[43mcomparison\u001b[49m(\u001b[38;5;241m2\u001b[39m,\u001b[38;5;241m17\u001b[39m)\n",
      "\u001b[0;31mNameError\u001b[0m: name 'comparison' is not defined"
     ]
    }
   ],
   "source": [
    "comparison(2,17)"
   ]
  },
  {
   "cell_type": "code",
   "execution_count": null,
   "id": "356d2360-9188-4c6f-b957-f79d933028ed",
   "metadata": {},
   "outputs": [],
   "source": [
    "comparison( a = 14)\n",
    "#b is defauled to 0"
   ]
  },
  {
   "cell_type": "code",
   "execution_count": null,
   "id": "0877d26c-0242-41f8-997e-e01025c919dc",
   "metadata": {},
   "outputs": [],
   "source": [
    "#three types: class methods, static methods, and instance methods\n",
    "#classes are a tyoe of object that have their own properties\n",
    "#class method: can modify class state, cant modify object state, used for factory functioms\n",
    "#static method: cant access class state, cant access object state, used for utilioty functions\n",
    "#Instance method: can modify class state, can modify object state\n",
    "\n",
    "\n",
    "\n",
    "\n"
   ]
  }
 ],
 "metadata": {
  "kernelspec": {
   "display_name": "Python 3 (ipykernel)",
   "language": "python",
   "name": "python3"
  },
  "language_info": {
   "codemirror_mode": {
    "name": "ipython",
    "version": 3
   },
   "file_extension": ".py",
   "mimetype": "text/x-python",
   "name": "python",
   "nbconvert_exporter": "python",
   "pygments_lexer": "ipython3",
   "version": "3.12.5"
  }
 },
 "nbformat": 4,
 "nbformat_minor": 5
}
