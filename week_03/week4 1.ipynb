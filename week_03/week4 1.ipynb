{
 "cells": [
  {
   "cell_type": "code",
   "execution_count": 3,
   "id": "708f8df8-f87d-494e-a5e5-d219c2cf1f61",
   "metadata": {},
   "outputs": [
    {
     "data": {
      "text/html": [
       "<div>\n",
       "<style scoped>\n",
       "    .dataframe tbody tr th:only-of-type {\n",
       "        vertical-align: middle;\n",
       "    }\n",
       "\n",
       "    .dataframe tbody tr th {\n",
       "        vertical-align: top;\n",
       "    }\n",
       "\n",
       "    .dataframe thead th {\n",
       "        text-align: right;\n",
       "    }\n",
       "</style>\n",
       "<table border=\"1\" class=\"dataframe\">\n",
       "  <thead>\n",
       "    <tr style=\"text-align: right;\">\n",
       "      <th></th>\n",
       "      <th>Car</th>\n",
       "      <th>MPG</th>\n",
       "      <th>Cylinders</th>\n",
       "      <th>Displacement</th>\n",
       "      <th>Horsepower</th>\n",
       "      <th>Weight</th>\n",
       "      <th>Acceleration</th>\n",
       "      <th>Model</th>\n",
       "      <th>Origin</th>\n",
       "    </tr>\n",
       "  </thead>\n",
       "  <tbody>\n",
       "    <tr>\n",
       "      <th>0</th>\n",
       "      <td>Chevrolet Chevelle Malibu</td>\n",
       "      <td>18.0</td>\n",
       "      <td>8</td>\n",
       "      <td>307.0</td>\n",
       "      <td>130.0</td>\n",
       "      <td>3504.0</td>\n",
       "      <td>12.0</td>\n",
       "      <td>70</td>\n",
       "      <td>US</td>\n",
       "    </tr>\n",
       "    <tr>\n",
       "      <th>1</th>\n",
       "      <td>Buick Skylark 320</td>\n",
       "      <td>15.0</td>\n",
       "      <td>8</td>\n",
       "      <td>350.0</td>\n",
       "      <td>165.0</td>\n",
       "      <td>3693.0</td>\n",
       "      <td>11.5</td>\n",
       "      <td>70</td>\n",
       "      <td>US</td>\n",
       "    </tr>\n",
       "    <tr>\n",
       "      <th>2</th>\n",
       "      <td>Plymouth Satellite</td>\n",
       "      <td>18.0</td>\n",
       "      <td>8</td>\n",
       "      <td>318.0</td>\n",
       "      <td>150.0</td>\n",
       "      <td>3436.0</td>\n",
       "      <td>11.0</td>\n",
       "      <td>70</td>\n",
       "      <td>US</td>\n",
       "    </tr>\n",
       "    <tr>\n",
       "      <th>3</th>\n",
       "      <td>AMC Rebel SST</td>\n",
       "      <td>16.0</td>\n",
       "      <td>8</td>\n",
       "      <td>304.0</td>\n",
       "      <td>150.0</td>\n",
       "      <td>3433.0</td>\n",
       "      <td>12.0</td>\n",
       "      <td>70</td>\n",
       "      <td>US</td>\n",
       "    </tr>\n",
       "    <tr>\n",
       "      <th>4</th>\n",
       "      <td>Ford Torino</td>\n",
       "      <td>17.0</td>\n",
       "      <td>8</td>\n",
       "      <td>302.0</td>\n",
       "      <td>140.0</td>\n",
       "      <td>3449.0</td>\n",
       "      <td>10.5</td>\n",
       "      <td>70</td>\n",
       "      <td>US</td>\n",
       "    </tr>\n",
       "  </tbody>\n",
       "</table>\n",
       "</div>"
      ],
      "text/plain": [
       "                         Car   MPG  Cylinders  Displacement  Horsepower  \\\n",
       "0  Chevrolet Chevelle Malibu  18.0          8         307.0       130.0   \n",
       "1          Buick Skylark 320  15.0          8         350.0       165.0   \n",
       "2         Plymouth Satellite  18.0          8         318.0       150.0   \n",
       "3              AMC Rebel SST  16.0          8         304.0       150.0   \n",
       "4                Ford Torino  17.0          8         302.0       140.0   \n",
       "\n",
       "   Weight  Acceleration  Model Origin  \n",
       "0  3504.0          12.0     70     US  \n",
       "1  3693.0          11.5     70     US  \n",
       "2  3436.0          11.0     70     US  \n",
       "3  3433.0          12.0     70     US  \n",
       "4  3449.0          10.5     70     US  "
      ]
     },
     "execution_count": 3,
     "metadata": {},
     "output_type": "execute_result"
    }
   ],
   "source": [
    "import pandas as pd\n",
    "\n",
    "csv_df = pd.read_csv('cars.csv', delimiter=\";\")\n",
    "\n",
    "csv_df.head()"
   ]
  },
  {
   "cell_type": "code",
   "execution_count": 4,
   "id": "2fb5bfda-063a-4c46-a743-ad471795640d",
   "metadata": {},
   "outputs": [
    {
     "data": {
      "text/html": [
       "<div>\n",
       "<style scoped>\n",
       "    .dataframe tbody tr th:only-of-type {\n",
       "        vertical-align: middle;\n",
       "    }\n",
       "\n",
       "    .dataframe tbody tr th {\n",
       "        vertical-align: top;\n",
       "    }\n",
       "\n",
       "    .dataframe thead th {\n",
       "        text-align: right;\n",
       "    }\n",
       "</style>\n",
       "<table border=\"1\" class=\"dataframe\">\n",
       "  <thead>\n",
       "    <tr style=\"text-align: right;\">\n",
       "      <th></th>\n",
       "      <th>MPG</th>\n",
       "      <th>Cylinders</th>\n",
       "      <th>Displacement</th>\n",
       "      <th>Horsepower</th>\n",
       "      <th>Weight</th>\n",
       "      <th>Acceleration</th>\n",
       "      <th>Model</th>\n",
       "    </tr>\n",
       "  </thead>\n",
       "  <tbody>\n",
       "    <tr>\n",
       "      <th>count</th>\n",
       "      <td>406.000000</td>\n",
       "      <td>406.000000</td>\n",
       "      <td>406.000000</td>\n",
       "      <td>406.000000</td>\n",
       "      <td>406.000000</td>\n",
       "      <td>406.000000</td>\n",
       "      <td>406.000000</td>\n",
       "    </tr>\n",
       "    <tr>\n",
       "      <th>mean</th>\n",
       "      <td>23.051232</td>\n",
       "      <td>5.475369</td>\n",
       "      <td>194.779557</td>\n",
       "      <td>103.529557</td>\n",
       "      <td>2979.413793</td>\n",
       "      <td>15.519704</td>\n",
       "      <td>75.921182</td>\n",
       "    </tr>\n",
       "    <tr>\n",
       "      <th>std</th>\n",
       "      <td>8.401777</td>\n",
       "      <td>1.712160</td>\n",
       "      <td>104.922458</td>\n",
       "      <td>40.520659</td>\n",
       "      <td>847.004328</td>\n",
       "      <td>2.803359</td>\n",
       "      <td>3.748737</td>\n",
       "    </tr>\n",
       "    <tr>\n",
       "      <th>min</th>\n",
       "      <td>0.000000</td>\n",
       "      <td>3.000000</td>\n",
       "      <td>68.000000</td>\n",
       "      <td>0.000000</td>\n",
       "      <td>1613.000000</td>\n",
       "      <td>8.000000</td>\n",
       "      <td>70.000000</td>\n",
       "    </tr>\n",
       "    <tr>\n",
       "      <th>25%</th>\n",
       "      <td>17.000000</td>\n",
       "      <td>4.000000</td>\n",
       "      <td>105.000000</td>\n",
       "      <td>75.000000</td>\n",
       "      <td>2226.500000</td>\n",
       "      <td>13.700000</td>\n",
       "      <td>73.000000</td>\n",
       "    </tr>\n",
       "    <tr>\n",
       "      <th>50%</th>\n",
       "      <td>22.350000</td>\n",
       "      <td>4.000000</td>\n",
       "      <td>151.000000</td>\n",
       "      <td>93.500000</td>\n",
       "      <td>2822.500000</td>\n",
       "      <td>15.500000</td>\n",
       "      <td>76.000000</td>\n",
       "    </tr>\n",
       "    <tr>\n",
       "      <th>75%</th>\n",
       "      <td>29.000000</td>\n",
       "      <td>8.000000</td>\n",
       "      <td>302.000000</td>\n",
       "      <td>129.000000</td>\n",
       "      <td>3618.250000</td>\n",
       "      <td>17.175000</td>\n",
       "      <td>79.000000</td>\n",
       "    </tr>\n",
       "    <tr>\n",
       "      <th>max</th>\n",
       "      <td>46.600000</td>\n",
       "      <td>8.000000</td>\n",
       "      <td>455.000000</td>\n",
       "      <td>230.000000</td>\n",
       "      <td>5140.000000</td>\n",
       "      <td>24.800000</td>\n",
       "      <td>82.000000</td>\n",
       "    </tr>\n",
       "  </tbody>\n",
       "</table>\n",
       "</div>"
      ],
      "text/plain": [
       "              MPG   Cylinders  Displacement  Horsepower       Weight  \\\n",
       "count  406.000000  406.000000    406.000000  406.000000   406.000000   \n",
       "mean    23.051232    5.475369    194.779557  103.529557  2979.413793   \n",
       "std      8.401777    1.712160    104.922458   40.520659   847.004328   \n",
       "min      0.000000    3.000000     68.000000    0.000000  1613.000000   \n",
       "25%     17.000000    4.000000    105.000000   75.000000  2226.500000   \n",
       "50%     22.350000    4.000000    151.000000   93.500000  2822.500000   \n",
       "75%     29.000000    8.000000    302.000000  129.000000  3618.250000   \n",
       "max     46.600000    8.000000    455.000000  230.000000  5140.000000   \n",
       "\n",
       "       Acceleration       Model  \n",
       "count    406.000000  406.000000  \n",
       "mean      15.519704   75.921182  \n",
       "std        2.803359    3.748737  \n",
       "min        8.000000   70.000000  \n",
       "25%       13.700000   73.000000  \n",
       "50%       15.500000   76.000000  \n",
       "75%       17.175000   79.000000  \n",
       "max       24.800000   82.000000  "
      ]
     },
     "execution_count": 4,
     "metadata": {},
     "output_type": "execute_result"
    }
   ],
   "source": [
    "csv_df.describe()"
   ]
  },
  {
   "cell_type": "code",
   "execution_count": 6,
   "id": "74675c31-ada8-4796-b217-83e1d79b0e1a",
   "metadata": {},
   "outputs": [
    {
     "ename": "ModuleNotFoundError",
     "evalue": "No module named 'scipy'",
     "output_type": "error",
     "traceback": [
      "\u001b[0;31m---------------------------------------------------------------------------\u001b[0m",
      "\u001b[0;31mModuleNotFoundError\u001b[0m                       Traceback (most recent call last)",
      "Cell \u001b[0;32mIn[6], line 8\u001b[0m\n\u001b[1;32m      6\u001b[0m \u001b[38;5;28;01mimport\u001b[39;00m \u001b[38;5;21;01mmath\u001b[39;00m\n\u001b[1;32m      7\u001b[0m \u001b[38;5;28;01mimport\u001b[39;00m \u001b[38;5;21;01mstatistics\u001b[39;00m\n\u001b[0;32m----> 8\u001b[0m \u001b[38;5;28;01mfrom\u001b[39;00m \u001b[38;5;21;01mscipy\u001b[39;00m \u001b[38;5;28;01mimport\u001b[39;00m stats\n",
      "\u001b[0;31mModuleNotFoundError\u001b[0m: No module named 'scipy'"
     ]
    }
   ],
   "source": [
    "import numpy as np\n",
    "import pandas as pd\n",
    "\n",
    "#modules for statistics\n",
    "\n",
    "import math\n",
    "import statistics\n",
    "from scipy import stats"
   ]
  },
  {
   "cell_type": "code",
   "execution_count": 7,
   "id": "b41b2316-b233-4672-af28-dcaa722e6aba",
   "metadata": {},
   "outputs": [],
   "source": [
    "#Mean, Median, Mode, and Central Tendency\n",
    "\n",
    "#mean = average, balance point = sum of all the numbers/total number of values = arithmetic mean\n",
    "\n",
    "#median = middle number when all the values are put in order. If there is an odd number of values, the median is one number. If there is an \n",
    "#even number of numbers, you take the middle two and avaerage them. Outliers do not impact the median very much.\n",
    "\n",
    "#mode = number that occurs the most often\n",
    "\n",
    "#Central Tendency = a single value that attempts to describe the whole set of data. This number represents the middle or center of its distribution"
   ]
  },
  {
   "cell_type": "code",
   "execution_count": 8,
   "id": "952954f0-c14d-4a4c-b4cb-0df10670d454",
   "metadata": {},
   "outputs": [
    {
     "data": {
      "text/html": [
       "<div>\n",
       "<style scoped>\n",
       "    .dataframe tbody tr th:only-of-type {\n",
       "        vertical-align: middle;\n",
       "    }\n",
       "\n",
       "    .dataframe tbody tr th {\n",
       "        vertical-align: top;\n",
       "    }\n",
       "\n",
       "    .dataframe thead th {\n",
       "        text-align: right;\n",
       "    }\n",
       "</style>\n",
       "<table border=\"1\" class=\"dataframe\">\n",
       "  <thead>\n",
       "    <tr style=\"text-align: right;\">\n",
       "      <th></th>\n",
       "      <th>id</th>\n",
       "      <th>name</th>\n",
       "      <th>host_id</th>\n",
       "      <th>host_name</th>\n",
       "      <th>neighbourhood_group</th>\n",
       "      <th>neighbourhood</th>\n",
       "      <th>latitude</th>\n",
       "      <th>longitude</th>\n",
       "      <th>room_type</th>\n",
       "      <th>price</th>\n",
       "      <th>minimum_nights</th>\n",
       "      <th>number_of_reviews</th>\n",
       "      <th>last_review</th>\n",
       "      <th>reviews_per_month</th>\n",
       "      <th>calculated_host_listings_count</th>\n",
       "      <th>availability_365</th>\n",
       "    </tr>\n",
       "  </thead>\n",
       "  <tbody>\n",
       "    <tr>\n",
       "      <th>2791</th>\n",
       "      <td>48283996</td>\n",
       "      <td>Magical Island</td>\n",
       "      <td>17994012</td>\n",
       "      <td>Ronald</td>\n",
       "      <td>Belize</td>\n",
       "      <td>Belize Islands</td>\n",
       "      <td>17.945690</td>\n",
       "      <td>-87.944620</td>\n",
       "      <td>Entire home/apt</td>\n",
       "      <td>1054</td>\n",
       "      <td>3</td>\n",
       "      <td>0</td>\n",
       "      <td>NaN</td>\n",
       "      <td>NaN</td>\n",
       "      <td>2</td>\n",
       "      <td>347</td>\n",
       "    </tr>\n",
       "    <tr>\n",
       "      <th>2792</th>\n",
       "      <td>48287613</td>\n",
       "      <td>The Luxury Suite - Corozal, Bz- 3Bdr/2bthr CASA1</td>\n",
       "      <td>375769845</td>\n",
       "      <td>Michael</td>\n",
       "      <td>Corozal</td>\n",
       "      <td>Corozal</td>\n",
       "      <td>18.374630</td>\n",
       "      <td>-88.400190</td>\n",
       "      <td>Entire home/apt</td>\n",
       "      <td>401</td>\n",
       "      <td>3</td>\n",
       "      <td>0</td>\n",
       "      <td>NaN</td>\n",
       "      <td>NaN</td>\n",
       "      <td>2</td>\n",
       "      <td>302</td>\n",
       "    </tr>\n",
       "    <tr>\n",
       "      <th>2793</th>\n",
       "      <td>48296096</td>\n",
       "      <td>Lagoon front apartment w/shared pool -  two mi...</td>\n",
       "      <td>76414486</td>\n",
       "      <td>Vacasa Belize</td>\n",
       "      <td>Belize</td>\n",
       "      <td>Belize Islands</td>\n",
       "      <td>17.934580</td>\n",
       "      <td>-87.955220</td>\n",
       "      <td>Entire home/apt</td>\n",
       "      <td>252</td>\n",
       "      <td>1</td>\n",
       "      <td>0</td>\n",
       "      <td>NaN</td>\n",
       "      <td>NaN</td>\n",
       "      <td>204</td>\n",
       "      <td>364</td>\n",
       "    </tr>\n",
       "    <tr>\n",
       "      <th>2794</th>\n",
       "      <td>48296978</td>\n",
       "      <td>Beachfront Poolside Condo</td>\n",
       "      <td>15308338</td>\n",
       "      <td>Alexandra</td>\n",
       "      <td>Belize</td>\n",
       "      <td>Belize Islands</td>\n",
       "      <td>17.930010</td>\n",
       "      <td>-87.957120</td>\n",
       "      <td>Entire home/apt</td>\n",
       "      <td>242</td>\n",
       "      <td>3</td>\n",
       "      <td>0</td>\n",
       "      <td>NaN</td>\n",
       "      <td>NaN</td>\n",
       "      <td>4</td>\n",
       "      <td>364</td>\n",
       "    </tr>\n",
       "    <tr>\n",
       "      <th>2795</th>\n",
       "      <td>48332221</td>\n",
       "      <td>Standard Room - San Ignacio Resort Hotel</td>\n",
       "      <td>60399527</td>\n",
       "      <td>San Ignacio</td>\n",
       "      <td>Cayo</td>\n",
       "      <td>Cayo</td>\n",
       "      <td>17.154127</td>\n",
       "      <td>-89.069689</td>\n",
       "      <td>Private room</td>\n",
       "      <td>226</td>\n",
       "      <td>1</td>\n",
       "      <td>0</td>\n",
       "      <td>NaN</td>\n",
       "      <td>NaN</td>\n",
       "      <td>5</td>\n",
       "      <td>365</td>\n",
       "    </tr>\n",
       "  </tbody>\n",
       "</table>\n",
       "</div>"
      ],
      "text/plain": [
       "            id                                               name    host_id  \\\n",
       "2791  48283996                                     Magical Island   17994012   \n",
       "2792  48287613   The Luxury Suite - Corozal, Bz- 3Bdr/2bthr CASA1  375769845   \n",
       "2793  48296096  Lagoon front apartment w/shared pool -  two mi...   76414486   \n",
       "2794  48296978                          Beachfront Poolside Condo   15308338   \n",
       "2795  48332221           Standard Room - San Ignacio Resort Hotel   60399527   \n",
       "\n",
       "          host_name neighbourhood_group   neighbourhood   latitude  longitude  \\\n",
       "2791         Ronald              Belize  Belize Islands  17.945690 -87.944620   \n",
       "2792        Michael             Corozal         Corozal  18.374630 -88.400190   \n",
       "2793  Vacasa Belize              Belize  Belize Islands  17.934580 -87.955220   \n",
       "2794      Alexandra              Belize  Belize Islands  17.930010 -87.957120   \n",
       "2795    San Ignacio                Cayo            Cayo  17.154127 -89.069689   \n",
       "\n",
       "            room_type  price  minimum_nights  number_of_reviews last_review  \\\n",
       "2791  Entire home/apt   1054               3                  0         NaN   \n",
       "2792  Entire home/apt    401               3                  0         NaN   \n",
       "2793  Entire home/apt    252               1                  0         NaN   \n",
       "2794  Entire home/apt    242               3                  0         NaN   \n",
       "2795     Private room    226               1                  0         NaN   \n",
       "\n",
       "      reviews_per_month  calculated_host_listings_count  availability_365  \n",
       "2791                NaN                               2               347  \n",
       "2792                NaN                               2               302  \n",
       "2793                NaN                             204               364  \n",
       "2794                NaN                               4               364  \n",
       "2795                NaN                               5               365  "
      ]
     },
     "execution_count": 8,
     "metadata": {},
     "output_type": "execute_result"
    }
   ],
   "source": [
    "belize_listings_path = \"belize_airbnb_listings.csv\"\n",
    "belize_df = pd.read_csv(belize_listings_path)\n",
    "\n",
    "#belize_df.heaf()\n",
    "belize_df.tail()"
   ]
  },
  {
   "cell_type": "code",
   "execution_count": 22,
   "id": "538de47c-5faf-4fc7-b0f5-dc5e4bd483ce",
   "metadata": {},
   "outputs": [
    {
     "ename": "TypeError",
     "evalue": "Could not convert ['BelizeBelizeBelizeStann CreekBelizeBelizeToledoStann CreekCayoCayoCayoBelizeBelizeBelizeBelizeBelizeStann CreekBelizeBelizeStann CreekStann CreekBelizeCayoBelizeCayoCayoBelizeBelizeBelizeBelizeStann CreekCorozalBelizeBelizeBelizeBelizeBelizeBelizeBelizeBelizeBelizeBelizeCayoCorozalBelizeStann CreekBelizeBelizeBelizeBelizeBelizeBelizeBelizeBelizeCayoBelizeBelizeCayoBelizeBelizeBelizeBelizeCayoBelizeBelizeBelizeBelizeBelizeBelizeBelizeBelizeStann CreekBelizeBelizeBelizeBelizeBelizeBelizeBelizeToledoBelizeBelizeStann CreekStann CreekStann CreekBelizeBelizeBelizeBelizeBelizeBelizeCayoBelizeBelizeBelizeBelizeCayoBelizeBelizeBelizeBelizeBelizeBelizeBelizeBelizeCayoStann CreekCayoCayoBelizeBelizeStann CreekBelizeStann CreekStann CreekBelizeStann CreekBelizeBelizeBelizeBelizeBelizeBelizeBelizeOrange WalkBelizeBelizeBelizeCayoBelizeBelizeCayoBelizeBelizeBelizeStann CreekBelizeBelizeCayoBelizeBelizeBelizeStann CreekStann CreekBelizeStann CreekStann CreekBelizeCayoBelizeBelizeStann CreekCayoCayoCayoBelizeBelizeBelizeCayoCayoBelizeCayoBelizeCayoBelizeBelizeBelizeBelizeBelizeBelizeStann CreekCayoBelizeBelizeBelizeBelizeBelizeBelizeCayoCayoCayoCayoStann CreekBelizeBelizeStann CreekStann CreekCayoBelizeCayoBelizeBelizeBelizeBelizeBelizeBelizeCayoBelizeBelizeStann CreekBelizeBelizeStann CreekStann CreekBelizeBelizeStann CreekBelizeBelizeBelizeCayoBelizeBelizeCayoBelizeBelizeStann CreekBelizeBelizeBelizeBelizeCayoBelizeBelizeBelizeBelizeBelizeBelizeStann CreekStann CreekBelizeBelizeBelizeStann CreekCayoStann CreekStann CreekStann CreekBelizeBelizeCayoBelizeBelizeCayoCayoBelizeBelizeBelizeStann CreekStann CreekCayoBelizeStann CreekStann CreekStann CreekBelizeBelizeBelizeBelizeStann CreekBelizeCayoBelizeStann CreekStann CreekBelizeBelizeStann CreekBelizeBelizeBelizeBelizeBelizeCayoCayoBelizeBelizeBelizeBelizeBelizeBelizeBelizeStann CreekStann CreekStann CreekBelizeBelizeBelizeBelizeBelizeBelizeBelizeStann CreekOrange WalkCayoBelizeBelizeBelizeBelizeBelizeCayoCayoStann CreekCayoBelizeCayoBelizeBelizeBelizeBelizeStann CreekStann CreekCayoBelizeCayoOrange WalkStann CreekCorozalCorozalCayoCayoCayoCayoStann CreekStann CreekBelizeBelizeStann CreekBelizeBelizeBelizeBelizeToledoBelizeToledoCayoBelizeBelizeBelizeStann CreekBelizeStann CreekBelizeStann CreekStann CreekCayoStann CreekStann CreekStann CreekStann CreekStann CreekCayoCayoCayoCayoBelizeBelizeStann CreekBelizeBelizeCayoBelizeStann CreekStann CreekStann CreekCayoStann CreekBelizeBelizeCayoBelizeStann CreekBelizeBelizeOrange WalkCayoBelizeBelizeStann CreekStann CreekBelizeBelizeBelizeStann CreekStann CreekStann CreekStann CreekStann CreekStann CreekStann CreekStann CreekCorozalCayoCayoBelizeBelizeCayoBelizeBelizeStann CreekBelizeBelizeCorozalStann CreekBelizeStann CreekBelizeBelizeBelizeBelizeBelizeStann CreekBelizeCayoBelizeCayoCayoBelizeBelizeBelizeBelizeBelizeCayoCayoBelizeBelizeStann CreekStann CreekBelizeBelizeBelizeCayoCayoStann CreekCayoBelizeBelizeCayoCayoCayoBelizeBelizeStann CreekBelizeBelizeBelizeBelizeCorozalBelizeCayoCayoCayoStann CreekBelizeStann CreekCayoStann CreekCayoStann CreekStann CreekBelizeBelizeBelizeCayoBelizeBelizeBelizeBelizeCayoStann CreekStann CreekBelizeStann CreekBelizeStann CreekCorozalBelizeBelizeCayoCayoBelizeCayoCayoCayoBelizeBelizeBelizeBelizeCayoBelizeBelizeBelizeBelizeBelizeBelizeStann CreekStann CreekBelizeCayoBelizeCayoToledoCayoStann CreekBelizeToledoStann CreekBelizeBelizeBelizeBelizeBelizeBelizeToledoBelizeCayoStann CreekBelizeBelizeBelizeStann CreekCayoBelizeStann CreekCayoCayoCayoCayoBelizeStann CreekCayoBelizeBelizeCayoBelizeBelizeBelizeBelizeBelizeBelizeStann CreekStann CreekCayoBelizeBelizeBelizeBelizeCayoBelizeBelizeBelizeBelizeCayoStann CreekCorozalStann CreekBelizeBelizeBelizeCayoBelizeCayoCayoCayoCorozalCayoCorozalBelizeCayoCayoBelizeBelizeBelizeBelizeCayoBelizeStann CreekBelizeCayoBelizeBelizeBelizeBelizeBelizeBelizeBelizeToledoCayoCayoCayoBelizeBelizeBelizeBelizeStann CreekBelizeCayoCayoBelizeStann CreekBelizeStann CreekBelizeBelizeBelizeCayoOrange WalkCayoBelizeCayoBelizeStann CreekStann CreekBelizeStann CreekStann CreekStann CreekToledoStann CreekCayoBelizeBelizeCayoCayoStann CreekStann CreekBelizeStann CreekBelizeBelizeBelizeBelizeCayoCayoStann CreekCayoStann CreekCayoCayoCayoCayoCayoCayoStann CreekBelizeCayoBelizeBelizeBelizeBelizeCayoToledoOrange WalkBelizeBelizeBelizeBelizeBelizeStann CreekOrange WalkStann CreekBelizeCayoBelizeCayoBelizeCayoBelizeCayoCayoStann CreekCayoBelizeBelizeBelizeStann CreekBelizeStann CreekBelizeBelizeStann CreekCayoCayoBelizeBelizeBelizeCayoCayoStann CreekCayoCayoStann CreekStann CreekCayoBelizeCayoCayoCayoCayoToledoBelizeBelizeBelizeBelizeBelizeBelizeCayoBelizeCayoStann CreekBelizeCayoBelizeCayoStann CreekStann CreekStann CreekStann CreekStann CreekBelizeCayoCayoCayoBelizeCayoStann CreekStann CreekStann CreekStann CreekStann CreekCayoBelizeBelizeBelizeBelizeBelizeBelizeBelizeCayoBelizeBelizeCayoStann CreekStann CreekStann CreekBelizeBelizeBelizeBelizeBelizeStann CreekStann CreekStann CreekBelizeBelizeBelizeCayoBelizeBelizeCayoCayoBelizeStann CreekBelizeStann CreekStann CreekBelizeBelizeCorozalBelizeBelizeStann CreekBelizeStann CreekStann CreekStann CreekBelizeBelizeBelizeBelizeBelizeBelizeBelizeBelizeBelizeBelizeBelizeBelizeBelizeStann CreekBelizeStann CreekStann CreekCorozalCayoBelizeBelizeCayoBelizeBelizeBelizeBelizeBelizeBelizeCayoBelizeBelizeBelizeBelizeBelizeBelizeBelizeCorozalCorozalCorozalStann CreekStann CreekStann CreekStann CreekStann CreekBelizeBelizeBelizeBelizeBelizeBelizeBelizeCayoBelizeStann CreekBelizeBelizeCayoStann CreekBelizeStann CreekStann CreekStann CreekBelizeBelizeCayoBelizeStann CreekBelizeStann CreekBelizeBelizeStann CreekStann CreekBelizeStann CreekStann CreekStann CreekStann CreekBelizeStann CreekCayoBelizeStann CreekBelizeBelizeBelizeCayoCayoStann CreekStann CreekStann CreekBelizeBelizeBelizeBelizeBelizeBelizeBelizeStann CreekBelizeBelizeCayoCayoStann CreekBelizeBelizeBelizeBelizeStann CreekStann CreekBelizeBelizeBelizeBelizeBelizeBelizeBelizeCayoBelizeBelizeBelizeCorozalCayoStann CreekBelizeBelizeBelizeBelizeCayoBelizeBelizeBelizeBelizeCayoCayoStann CreekCayoBelizeStann CreekBelizeBelizeStann CreekBelizeCayoToledoStann CreekStann CreekBelizeBelizeBelizeBelizeBelizeBelizeBelizeBelizeBelizeBelizeBelizeStann CreekBelizeBelizeStann CreekBelizeBelizeBelizeBelizeCayoBelizeOrange WalkCayoToledoCayoStann CreekStann CreekCayoBelizeBelizeBelizeBelizeBelizeBelizeBelizeBelizeBelizeCayoCayoStann CreekCorozalBelizeCorozalCorozalCorozalCorozalCorozalBelizeBelizeCorozalCorozalCayoStann CreekStann CreekStann CreekStann CreekStann CreekStann CreekStann CreekBelizeCayoCayoCayoBelizeOrange WalkCayoBelizeBelizeStann CreekBelizeStann CreekStann CreekBelizeBelizeBelizeBelizeBelizeBelizeCorozalCayoCayoCayoCayoCorozalCayoBelizeCayoCayoCayoBelizeStann CreekBelizeStann CreekOrange WalkCayoCayoBelizeCayoStann CreekStann CreekStann CreekCayoCayoBelizeBelizeBelizeBelizeBelizeBelizeBelizeBelizeBelizeBelizeBelizeBelizeCayoBelizeStann CreekStann CreekStann CreekStann CreekCayoCayoCayoBelizeCayoStann CreekBelizeBelizeBelizeBelizeStann CreekBelizeBelizeBelizeBelizeBelizeBelizeBelizeStann CreekBelizeCayoCayoStann CreekBelizeBelizeCayoBelizeCayoBelizeCorozalStann CreekBelizeStann CreekStann CreekStann CreekBelizeBelizeOrange WalkStann CreekBelizeBelizeStann CreekBelizeStann CreekStann CreekBelizeBelizeBelizeCayoBelizeBelizeBelizeBelizeBelizeStann CreekBelizeCayoStann CreekCayoBelizeBelizeBelizeBelizeBelizeStann CreekCayoCorozalStann CreekBelizeBelizeBelizeBelizeBelizeBelizeBelizeBelizeBelizeBelizeCayoStann CreekCayoStann CreekCorozalBelizeBelizeBelizeStann CreekCayoBelizeBelizeBelizeBelizeBelizeBelizeCorozalBelizeCayoCorozalBelizeCayoCayoToledoBelizeBelizeCayoBelizeStann CreekStann CreekCayoBelizeStann CreekBelizeBelizeBelizeBelizeBelizeBelizeCayoCayoBelizeBelizeBelizeBelizeStann CreekBelizeStann CreekBelizeBelizeBelizeBelizeStann CreekCayoCorozalBelizeBelizeStann CreekStann CreekCayoCayoCayoBelizeBelizeStann CreekCayoStann CreekBelizeBelizeBelizeBelizeBelizeBelizeBelizeBelizeBelizeCayoStann CreekBelizeBelizeBelizeBelizeCayoBelizeBelizeBelizeBelizeBelizeBelizeCayoStann CreekBelizeBelizeBelizeCayoBelizeBelizeStann CreekStann CreekStann CreekOrange WalkStann CreekBelizeCayoBelizeStann CreekStann CreekStann CreekBelizeStann CreekStann CreekCayoBelizeStann CreekStann CreekBelizeBelizeCayoBelizeStann CreekCayoBelizeBelizeBelizeStann CreekStann CreekBelizeStann CreekBelizeBelizeBelizeStann CreekStann CreekCayoCayoBelizeBelizeCayoCayoCayoBelizeBelizeBelizeStann CreekStann CreekBelizeBelizeBelizeBelizeCayoBelizeBelizeBelizeBelizeBelizeBelizeCayoStann CreekBelizeCayoBelizeBelizeBelizeBelizeToledoBelizeStann CreekStann CreekBelizeStann CreekStann CreekStann CreekStann CreekStann CreekBelizeBelizeBelizeBelizeBelizeBelizeBelizeCayoCayoBelizeBelizeStann CreekBelizeCayoBelizeBelizeBelizeCayoCayoCayoCayoCayoCayoCayoCayoCayoBelizeToledoBelizeBelizeBelizeCayoBelizeBelizeCayoBelizeToledoStann CreekBelizeBelizeBelizeStann CreekStann CreekBelizeBelizeStann CreekStann CreekStann CreekStann CreekBelizeStann CreekCayoBelizeCayoCayoOrange WalkStann CreekBelizeStann CreekBelizeCayoStann CreekBelizeBelizeBelizeCayoCayoStann CreekBelizeBelizeBelizeBelizeCayoBelizeBelizeCayoBelizeStann CreekBelizeStann CreekStann CreekBelizeBelizeStann CreekBelizeStann CreekStann CreekStann CreekStann CreekStann CreekBelizeBelizeStann CreekCayoBelizeBelizeBelizeStann CreekBelizeBelizeStann CreekStann CreekBelizeBelizeBelizeCayoCayoStann CreekBelizeCayoBelizeStann CreekBelizeBelizeBelizeToledoStann CreekBelizeCayoCayoBelizeCayoBelizeBelizeOrange WalkBelizeBelizeOrange WalkCayoCayoCayoBelizeCayoBelizeBelizeBelizeBelizeStann CreekBelizeBelizeBelizeCayoStann CreekBelizeBelizeCayoBelizeBelizeStann CreekBelizeStann CreekBelizeBelizeBelizeCayoStann CreekStann CreekStann CreekBelizeBelizeBelizeBelizeBelizeBelizeBelizeStann CreekBelizeBelizeBelizeBelizeBelizeBelizeBelizeBelizeCayoBelizeCayoCayoCayoCayoBelizeCayoStann CreekCayoBelizeBelizeStann CreekStann CreekBelizeCayoBelizeBelizeBelizeBelizeBelizeBelizeBelizeCayoBelizeCayoBelizeBelizeBelizeBelizeBelizeBelizeBelizeBelizeBelizeBelizeBelizeBelizeCayoBelizeBelizeCayoBelizeBelizeCayoCayoBelizeCayoCayoCayoCayoCayoCayoCayoCayoCayoCayoBelizeBelizeCayoCayoCayoBelizeBelizeBelizeBelizeBelizeCayoBelizeBelizeBelizeStann CreekOrange WalkBelizeStann CreekStann CreekBelizeBelizeBelizeOrange WalkStann CreekBelizeStann CreekStann CreekStann CreekBelizeBelizeBelizeBelizeStann CreekBelizeBelizeBelizeStann CreekBelizeBelizeCayoBelizeStann CreekCayoBelizeBelizeBelizeBelizeCayoBelizeBelizeBelizeBelizeBelizeCayoStann CreekBelizeBelizeBelizeBelizeStann CreekBelizeBelizeBelizeBelizeBelizeCayoCayoBelizeBelizeBelizeBelizeBelizeBelizeBelizeBelizeStann CreekStann CreekCayoCayoBelizeBelizeStann CreekStann CreekBelizeBelizeBelizeStann CreekBelizeStann CreekCayoBelizeBelizeCorozalCayoBelizeStann CreekBelizeCayoStann CreekToledoCayoBelizeBelizeCayoBelizeCayoBelizeBelizeBelizeCayoCayoBelizeBelizeStann CreekBelizeCayoBelizeBelizeCayoBelizeBelizeBelizeBelizeBelizeBelizeBelizeCayoCayoBelizeCayoCorozalBelizeBelizeBelizeBelizeStann CreekToledoCayoStann CreekBelizeBelizeBelizeBelizeStann CreekBelizeBelizeStann CreekBelizeCayoStann CreekBelizeBelizeBelizeBelizeBelizeBelizeBelizeBelizeBelizeBelizeStann CreekCayoCayoBelizeBelizeCayoCayoBelizeBelizeBelizeBelizeCayoBelizeCayoBelizeBelizeBelizeStann CreekCayoBelizeBelizeCayoCayoBelizeCayoCayoBelizeBelizeBelizeBelizeCayoBelizeBelizeBelizeBelizeBelizeStann CreekCayoBelizeBelizeCayoStann CreekCayoBelizeStann CreekStann CreekBelizeBelizeBelizeCayoCayoBelizeBelizeStann CreekStann CreekBelizeCayoCayoBelizeBelizeStann CreekCayoBelizeCayoCayoBelizeBelizeStann CreekBelizeCayoStann CreekCayoStann CreekStann CreekStann CreekBelizeBelizeStann CreekCayoBelizeStann CreekBelizeBelizeStann CreekStann CreekBelizeBelizeBelizeBelizeStann CreekBelizeBelizeBelizeBelizeBelizeBelizeCayoBelizeBelizeBelizeBelizeBelizeBelizeToledoStann CreekStann CreekBelizeBelizeBelizeBelizeBelizeBelizeBelizeBelizeBelizeBelizeStann CreekCorozalBelizeBelizeBelizeBelizeBelizeCayoCayoCayoCayoCayoCayoCayoBelizeBelizeCayoBelizeCayoBelizeBelizeStann CreekStann CreekCayoCayoStann CreekCayoBelizeCorozalBelizeCayoBelizeCayoBelizeBelizeCayoToledoBelizeBelizeBelizeBelizeBelizeBelizeBelizeBelizeOrange WalkStann CreekBelizeBelizeToledoStann CreekBelizeBelizeBelizeBelizeStann CreekCayoBelizeBelizeBelizeBelizeOrange WalkStann CreekBelizeBelizeCayoCayoBelizeBelizeBelizeBelizeStann CreekBelizeBelizeBelizeBelizeBelizeCorozalStann CreekStann CreekStann CreekStann CreekBelizeBelizeBelizeCayoBelizeBelizeBelizeBelizeCayoStann CreekBelizeBelizeCayoToledoCayoOrange WalkCayoCayoBelizeCayoStann CreekBelizeStann CreekCayoBelizeBelizeCayoStann CreekStann CreekCorozalBelizeBelizeStann CreekStann CreekStann CreekBelizeBelizeBelizeStann CreekStann CreekBelizeBelizeBelizeBelizeCorozalCayoStann CreekBelizeBelizeBelizeBelizeBelizeToledoCayoStann CreekBelizeBelizeCorozalStann CreekToledoBelizeCayoBelizeStann CreekStann CreekCayoBelizeStann CreekStann CreekStann CreekStann CreekBelizeBelizeBelizeStann CreekBelizeBelizeBelizeStann CreekBelizeStann CreekBelizeBelizeBelizeBelizeBelizeBelizeBelizeCayoOrange WalkCorozalBelizeBelizeBelizeStann CreekCorozalCayoStann CreekBelizeBelizeBelizeBelizeBelizeBelizeBelizeBelizeBelizeBelizeStann CreekBelizeBelizeCayoBelizeBelizeBelizeBelizeBelizeBelizeBelizeBelizeCayoBelizeBelizeBelizeCayoBelizeBelizeBelizeBelizeBelizeCayoCayoCayoCayoCorozalStann CreekStann CreekStann CreekStann CreekBelizeBelizeStann CreekBelizeBelizeBelizeToledoToledoStann CreekBelizeBelizeCorozalStann CreekBelizeStann CreekStann CreekCorozalCorozalBelizeStann CreekStann CreekBelizeToledoToledoBelizeBelizeCorozalBelizeBelizeStann CreekStann CreekStann CreekCayoCayoStann CreekStann CreekCorozalCorozalBelizeBelizeBelizeBelizeBelizeBelizeCorozalBelizeBelizeBelizeBelizeBelizeBelizeBelizeBelizeBelizeBelizeBelizeBelizeBelizeStann CreekBelizeBelizeBelizeBelizeBelizeBelizeBelizeBelizeBelizeBelizeBelizeBelizeBelizeBelizeBelizeBelizeBelizeBelizeBelizeBelizeBelizeCayoBelizeBelizeBelizeBelizeStann CreekBelizeBelizeBelizeBelizeStann CreekBelizeCayoBelizeBelizeBelizeBelizeBelizeStann CreekStann CreekBelizeBelizeStann CreekStann CreekBelizeBelizeBelizeBelizeCayoBelizeBelizeCayoBelizeBelizeBelizeStann CreekStann CreekBelizeBelizeBelizeBelizeStann CreekBelizeCayoCayoStann CreekStann CreekBelizeBelizeCayoStann CreekBelizeCayoBelizeBelizeBelizeBelizeBelizeStann CreekStann CreekToledoBelizeBelizeBelizeBelizeBelizeStann CreekBelizeBelizeBelizeBelizeBelizeBelizeStann CreekBelizeBelizeBelizeBelizeBelizeBelizeBelizeCayoCayoBelizeBelizeBelizeBelizeStann CreekBelizeCayoCayoToledoBelizeStann CreekStann CreekCayoBelizeCayoBelizeBelizeStann CreekCayoBelizeStann CreekStann CreekBelizeStann CreekStann CreekToledoBelizeBelizeBelizeBelizeBelizeBelizeBelizeStann CreekCayoStann CreekCorozalBelizeBelizeStann CreekStann CreekStann CreekStann CreekCayoBelizeBelizeBelizeBelizeBelizeStann CreekStann CreekStann CreekBelizeStann CreekBelizeBelizeStann CreekCayoBelizeStann CreekStann CreekBelizeStann CreekBelizeCayoCayoStann CreekCayoCayoBelizeOrange WalkStann CreekBelizeBelizeCayoBelizeCayoStann CreekBelizeStann CreekStann CreekStann CreekStann CreekStann CreekBelizeBelizeBelizeBelizeStann CreekStann CreekStann CreekBelizeStann CreekBelizeStann CreekBelizeBelizeCayoCayoCayoStann CreekBelizeStann CreekBelizeBelizeStann CreekBelizeBelizeBelizeStann CreekBelizeBelizeBelizeBelizeCayoBelizeBelizeBelizeBelizeBelizeStann CreekBelizeBelizeBelizeCayoBelizeStann CreekBelizeBelizeBelizeBelizeCayoStann CreekBelizeCayoBelizeCorozalCayoBelizeBelizeBelizeBelizeCayoCorozalCorozalStann CreekBelizeCayoCayoBelizeCayoCayoCayoCayoCayoBelizeBelizeBelizeBelizeStann CreekToledoCayoBelizeBelizeStann CreekStann CreekStann CreekCayoBelizeStann CreekBelizeCayoBelizeToledoToledoBelizeCayoBelizeBelizeCayoBelizeBelizeBelizeBelizeBelizeBelizeStann CreekCayoCorozalStann CreekStann CreekBelizeBelizeToledoOrange WalkOrange WalkOrange WalkBelizeCayoCayoCayoStann CreekStann CreekStann CreekBelizeOrange WalkBelizeBelizeBelizeBelizeToledoBelizeBelizeBelizeBelizeBelizeBelizeBelizeBelizeBelizeBelizeBelizeBelizeBelizeBelizeBelizeCayoCorozalBelizeBelizeBelizeCayoBelizeStann CreekBelizeBelizeBelizeBelizeCayoStann CreekStann CreekBelizeToledoToledoBelizeToledoBelizeBelizeCayoBelizeBelizeBelizeCayoBelizeStann CreekStann CreekStann CreekStann CreekStann CreekStann CreekCayoCayoCayoCayoCayoCayoCayoStann CreekStann CreekStann CreekStann CreekStann CreekToledoToledoToledoStann CreekStann CreekToledoStann CreekStann CreekStann CreekStann CreekStann CreekStann CreekStann CreekStann CreekStann CreekCorozalCorozalCorozalBelizeStann CreekCayoCayoBelizeStann CreekOrange WalkBelizeStann CreekBelizeBelizeBelizeBelizeBelizeBelizeBelizeStann CreekStann CreekToledoToledoBelizeStann CreekBelizeBelizeBelizeStann CreekStann CreekStann CreekBelizeBelizeBelizeBelizeBelizeBelizeBelizeBelizeBelizeBelizeBelizeBelizeBelizeBelizeBelizeBelizeCorozalCorozalStann CreekCorozalStann CreekBelizeBelizeBelizeBelizeBelizeBelizeBelizeBelizeBelizeBelizeBelizeBelizeCayoBelizeCayoBelizeBelizeBelizeBelizeStann CreekBelizeBelizeBelizeBelizeBelizeBelizeBelizeBelizeBelizeBelizeBelizeBelizeBelizeBelizeBelizeBelizeBelizeBelizeBelizeBelizeBelizeBelizeBelizeBelizeBelizeBelizeBelizeBelizeBelizeBelizeBelizeBelizeCayoStann CreekStann CreekCayoStann CreekStann CreekStann CreekBelizeBelizeBelizeStann CreekStann CreekStann CreekBelizeStann CreekBelizeCayoBelizeStann CreekBelizeBelizeStann CreekCayoCayoStann CreekBelizeCayoBelizeBelizeBelizeStann CreekStann CreekBelizeCayoStann CreekCayoBelizeStann CreekBelizeStann CreekStann CreekStann CreekBelizeBelizeCayoStann CreekBelizeBelizeBelizeBelizeBelizeBelizeBelizeBelizeBelizeBelizeCayoBelizeStann CreekStann CreekBelizeBelizeBelizeStann CreekBelizeBelizeStann CreekBelizeStann CreekBelizeStann CreekStann CreekBelizeBelizeCayoBelizeCayoCayoBelizeStann CreekStann CreekStann CreekBelizeBelizeStann CreekStann CreekStann CreekOrange WalkStann CreekStann CreekStann CreekStann CreekStann CreekBelizeBelizeBelizeBelizeStann CreekStann CreekCayoCayoCayoCorozalBelizeStann CreekBelizeBelizeBelizeCayoBelizeBelizeBelizeBelizeBelizeBelizeBelizeBelizeCayoBelizeStann CreekBelizeBelizeBelizeBelizeBelizeBelizeBelizeBelizeCayoStann CreekBelizeStann CreekBelizeBelizeBelizeBelizeCayoBelizeBelizeBelizeBelizeBelizeBelizeBelizeBelizeStann CreekCayoBelizeBelizeBelizeBelizeBelizeStann CreekBelizeBelizeCayoStann CreekBelizeCayoBelizeBelizeBelizeBelizeBelizeBelizeBelizeBelizeBelizeBelizeBelizeBelizeBelizeBelizeBelizeBelizeBelizeBelizeBelizeBelizeBelizeBelizeBelizeBelizeBelizeStann CreekBelizeBelizeCayoBelizeBelizeBelizeCayoBelizeBelizeBelizeStann CreekBelizeBelizeBelizeBelizeBelizeBelizeBelizeBelizeBelizeBelizeCayoCayoCayoCayoBelizeBelizeStann CreekBelizeCorozalBelizeBelizeCayo'] to numeric",
     "output_type": "error",
     "traceback": [
      "\u001b[0;31m---------------------------------------------------------------------------\u001b[0m",
      "\u001b[0;31mTypeError\u001b[0m                                 Traceback (most recent call last)",
      "Cell \u001b[0;32mIn[22], line 3\u001b[0m\n\u001b[1;32m      1\u001b[0m \u001b[38;5;66;03m#get mean of price, minimum nights, and number of reviews\u001b[39;00m\n\u001b[0;32m----> 3\u001b[0m \u001b[43mbelize_df\u001b[49m\u001b[43m[\u001b[49m\u001b[43m[\u001b[49m\u001b[38;5;124;43m'\u001b[39;49m\u001b[38;5;124;43mneighbourhood_group\u001b[39;49m\u001b[38;5;124;43m'\u001b[39;49m\u001b[43m]\u001b[49m\u001b[43m]\u001b[49m\u001b[38;5;241;43m.\u001b[39;49m\u001b[43mmean\u001b[49m\u001b[43m(\u001b[49m\u001b[43m)\u001b[49m\n",
      "File \u001b[0;32m/opt/homebrew/Cellar/jupyterlab/4.2.5/libexec/lib/python3.12/site-packages/pandas/core/frame.py:11693\u001b[0m, in \u001b[0;36mDataFrame.mean\u001b[0;34m(self, axis, skipna, numeric_only, **kwargs)\u001b[0m\n\u001b[1;32m  11685\u001b[0m \u001b[38;5;129m@doc\u001b[39m(make_doc(\u001b[38;5;124m\"\u001b[39m\u001b[38;5;124mmean\u001b[39m\u001b[38;5;124m\"\u001b[39m, ndim\u001b[38;5;241m=\u001b[39m\u001b[38;5;241m2\u001b[39m))\n\u001b[1;32m  11686\u001b[0m \u001b[38;5;28;01mdef\u001b[39;00m \u001b[38;5;21mmean\u001b[39m(\n\u001b[1;32m  11687\u001b[0m     \u001b[38;5;28mself\u001b[39m,\n\u001b[0;32m   (...)\u001b[0m\n\u001b[1;32m  11691\u001b[0m     \u001b[38;5;241m*\u001b[39m\u001b[38;5;241m*\u001b[39mkwargs,\n\u001b[1;32m  11692\u001b[0m ):\n\u001b[0;32m> 11693\u001b[0m     result \u001b[38;5;241m=\u001b[39m \u001b[38;5;28;43msuper\u001b[39;49m\u001b[43m(\u001b[49m\u001b[43m)\u001b[49m\u001b[38;5;241;43m.\u001b[39;49m\u001b[43mmean\u001b[49m\u001b[43m(\u001b[49m\u001b[43maxis\u001b[49m\u001b[43m,\u001b[49m\u001b[43m \u001b[49m\u001b[43mskipna\u001b[49m\u001b[43m,\u001b[49m\u001b[43m \u001b[49m\u001b[43mnumeric_only\u001b[49m\u001b[43m,\u001b[49m\u001b[43m \u001b[49m\u001b[38;5;241;43m*\u001b[39;49m\u001b[38;5;241;43m*\u001b[39;49m\u001b[43mkwargs\u001b[49m\u001b[43m)\u001b[49m\n\u001b[1;32m  11694\u001b[0m     \u001b[38;5;28;01mif\u001b[39;00m \u001b[38;5;28misinstance\u001b[39m(result, Series):\n\u001b[1;32m  11695\u001b[0m         result \u001b[38;5;241m=\u001b[39m result\u001b[38;5;241m.\u001b[39m__finalize__(\u001b[38;5;28mself\u001b[39m, method\u001b[38;5;241m=\u001b[39m\u001b[38;5;124m\"\u001b[39m\u001b[38;5;124mmean\u001b[39m\u001b[38;5;124m\"\u001b[39m)\n",
      "File \u001b[0;32m/opt/homebrew/Cellar/jupyterlab/4.2.5/libexec/lib/python3.12/site-packages/pandas/core/generic.py:12420\u001b[0m, in \u001b[0;36mNDFrame.mean\u001b[0;34m(self, axis, skipna, numeric_only, **kwargs)\u001b[0m\n\u001b[1;32m  12413\u001b[0m \u001b[38;5;28;01mdef\u001b[39;00m \u001b[38;5;21mmean\u001b[39m(\n\u001b[1;32m  12414\u001b[0m     \u001b[38;5;28mself\u001b[39m,\n\u001b[1;32m  12415\u001b[0m     axis: Axis \u001b[38;5;241m|\u001b[39m \u001b[38;5;28;01mNone\u001b[39;00m \u001b[38;5;241m=\u001b[39m \u001b[38;5;241m0\u001b[39m,\n\u001b[0;32m   (...)\u001b[0m\n\u001b[1;32m  12418\u001b[0m     \u001b[38;5;241m*\u001b[39m\u001b[38;5;241m*\u001b[39mkwargs,\n\u001b[1;32m  12419\u001b[0m ) \u001b[38;5;241m-\u001b[39m\u001b[38;5;241m>\u001b[39m Series \u001b[38;5;241m|\u001b[39m \u001b[38;5;28mfloat\u001b[39m:\n\u001b[0;32m> 12420\u001b[0m     \u001b[38;5;28;01mreturn\u001b[39;00m \u001b[38;5;28;43mself\u001b[39;49m\u001b[38;5;241;43m.\u001b[39;49m\u001b[43m_stat_function\u001b[49m\u001b[43m(\u001b[49m\n\u001b[1;32m  12421\u001b[0m \u001b[43m        \u001b[49m\u001b[38;5;124;43m\"\u001b[39;49m\u001b[38;5;124;43mmean\u001b[39;49m\u001b[38;5;124;43m\"\u001b[39;49m\u001b[43m,\u001b[49m\u001b[43m \u001b[49m\u001b[43mnanops\u001b[49m\u001b[38;5;241;43m.\u001b[39;49m\u001b[43mnanmean\u001b[49m\u001b[43m,\u001b[49m\u001b[43m \u001b[49m\u001b[43maxis\u001b[49m\u001b[43m,\u001b[49m\u001b[43m \u001b[49m\u001b[43mskipna\u001b[49m\u001b[43m,\u001b[49m\u001b[43m \u001b[49m\u001b[43mnumeric_only\u001b[49m\u001b[43m,\u001b[49m\u001b[43m \u001b[49m\u001b[38;5;241;43m*\u001b[39;49m\u001b[38;5;241;43m*\u001b[39;49m\u001b[43mkwargs\u001b[49m\n\u001b[1;32m  12422\u001b[0m \u001b[43m    \u001b[49m\u001b[43m)\u001b[49m\n",
      "File \u001b[0;32m/opt/homebrew/Cellar/jupyterlab/4.2.5/libexec/lib/python3.12/site-packages/pandas/core/generic.py:12377\u001b[0m, in \u001b[0;36mNDFrame._stat_function\u001b[0;34m(self, name, func, axis, skipna, numeric_only, **kwargs)\u001b[0m\n\u001b[1;32m  12373\u001b[0m nv\u001b[38;5;241m.\u001b[39mvalidate_func(name, (), kwargs)\n\u001b[1;32m  12375\u001b[0m validate_bool_kwarg(skipna, \u001b[38;5;124m\"\u001b[39m\u001b[38;5;124mskipna\u001b[39m\u001b[38;5;124m\"\u001b[39m, none_allowed\u001b[38;5;241m=\u001b[39m\u001b[38;5;28;01mFalse\u001b[39;00m)\n\u001b[0;32m> 12377\u001b[0m \u001b[38;5;28;01mreturn\u001b[39;00m \u001b[38;5;28;43mself\u001b[39;49m\u001b[38;5;241;43m.\u001b[39;49m\u001b[43m_reduce\u001b[49m\u001b[43m(\u001b[49m\n\u001b[1;32m  12378\u001b[0m \u001b[43m    \u001b[49m\u001b[43mfunc\u001b[49m\u001b[43m,\u001b[49m\u001b[43m \u001b[49m\u001b[43mname\u001b[49m\u001b[38;5;241;43m=\u001b[39;49m\u001b[43mname\u001b[49m\u001b[43m,\u001b[49m\u001b[43m \u001b[49m\u001b[43maxis\u001b[49m\u001b[38;5;241;43m=\u001b[39;49m\u001b[43maxis\u001b[49m\u001b[43m,\u001b[49m\u001b[43m \u001b[49m\u001b[43mskipna\u001b[49m\u001b[38;5;241;43m=\u001b[39;49m\u001b[43mskipna\u001b[49m\u001b[43m,\u001b[49m\u001b[43m \u001b[49m\u001b[43mnumeric_only\u001b[49m\u001b[38;5;241;43m=\u001b[39;49m\u001b[43mnumeric_only\u001b[49m\n\u001b[1;32m  12379\u001b[0m \u001b[43m\u001b[49m\u001b[43m)\u001b[49m\n",
      "File \u001b[0;32m/opt/homebrew/Cellar/jupyterlab/4.2.5/libexec/lib/python3.12/site-packages/pandas/core/frame.py:11562\u001b[0m, in \u001b[0;36mDataFrame._reduce\u001b[0;34m(self, op, name, axis, skipna, numeric_only, filter_type, **kwds)\u001b[0m\n\u001b[1;32m  11558\u001b[0m     df \u001b[38;5;241m=\u001b[39m df\u001b[38;5;241m.\u001b[39mT\n\u001b[1;32m  11560\u001b[0m \u001b[38;5;66;03m# After possibly _get_data and transposing, we are now in the\u001b[39;00m\n\u001b[1;32m  11561\u001b[0m \u001b[38;5;66;03m#  simple case where we can use BlockManager.reduce\u001b[39;00m\n\u001b[0;32m> 11562\u001b[0m res \u001b[38;5;241m=\u001b[39m \u001b[43mdf\u001b[49m\u001b[38;5;241;43m.\u001b[39;49m\u001b[43m_mgr\u001b[49m\u001b[38;5;241;43m.\u001b[39;49m\u001b[43mreduce\u001b[49m\u001b[43m(\u001b[49m\u001b[43mblk_func\u001b[49m\u001b[43m)\u001b[49m\n\u001b[1;32m  11563\u001b[0m out \u001b[38;5;241m=\u001b[39m df\u001b[38;5;241m.\u001b[39m_constructor_from_mgr(res, axes\u001b[38;5;241m=\u001b[39mres\u001b[38;5;241m.\u001b[39maxes)\u001b[38;5;241m.\u001b[39miloc[\u001b[38;5;241m0\u001b[39m]\n\u001b[1;32m  11564\u001b[0m \u001b[38;5;28;01mif\u001b[39;00m out_dtype \u001b[38;5;129;01mis\u001b[39;00m \u001b[38;5;129;01mnot\u001b[39;00m \u001b[38;5;28;01mNone\u001b[39;00m \u001b[38;5;129;01mand\u001b[39;00m out\u001b[38;5;241m.\u001b[39mdtype \u001b[38;5;241m!=\u001b[39m \u001b[38;5;124m\"\u001b[39m\u001b[38;5;124mboolean\u001b[39m\u001b[38;5;124m\"\u001b[39m:\n",
      "File \u001b[0;32m/opt/homebrew/Cellar/jupyterlab/4.2.5/libexec/lib/python3.12/site-packages/pandas/core/internals/managers.py:1500\u001b[0m, in \u001b[0;36mBlockManager.reduce\u001b[0;34m(self, func)\u001b[0m\n\u001b[1;32m   1498\u001b[0m res_blocks: \u001b[38;5;28mlist\u001b[39m[Block] \u001b[38;5;241m=\u001b[39m []\n\u001b[1;32m   1499\u001b[0m \u001b[38;5;28;01mfor\u001b[39;00m blk \u001b[38;5;129;01min\u001b[39;00m \u001b[38;5;28mself\u001b[39m\u001b[38;5;241m.\u001b[39mblocks:\n\u001b[0;32m-> 1500\u001b[0m     nbs \u001b[38;5;241m=\u001b[39m \u001b[43mblk\u001b[49m\u001b[38;5;241;43m.\u001b[39;49m\u001b[43mreduce\u001b[49m\u001b[43m(\u001b[49m\u001b[43mfunc\u001b[49m\u001b[43m)\u001b[49m\n\u001b[1;32m   1501\u001b[0m     res_blocks\u001b[38;5;241m.\u001b[39mextend(nbs)\n\u001b[1;32m   1503\u001b[0m index \u001b[38;5;241m=\u001b[39m Index([\u001b[38;5;28;01mNone\u001b[39;00m])  \u001b[38;5;66;03m# placeholder\u001b[39;00m\n",
      "File \u001b[0;32m/opt/homebrew/Cellar/jupyterlab/4.2.5/libexec/lib/python3.12/site-packages/pandas/core/internals/blocks.py:404\u001b[0m, in \u001b[0;36mBlock.reduce\u001b[0;34m(self, func)\u001b[0m\n\u001b[1;32m    398\u001b[0m \u001b[38;5;129m@final\u001b[39m\n\u001b[1;32m    399\u001b[0m \u001b[38;5;28;01mdef\u001b[39;00m \u001b[38;5;21mreduce\u001b[39m(\u001b[38;5;28mself\u001b[39m, func) \u001b[38;5;241m-\u001b[39m\u001b[38;5;241m>\u001b[39m \u001b[38;5;28mlist\u001b[39m[Block]:\n\u001b[1;32m    400\u001b[0m     \u001b[38;5;66;03m# We will apply the function and reshape the result into a single-row\u001b[39;00m\n\u001b[1;32m    401\u001b[0m     \u001b[38;5;66;03m#  Block with the same mgr_locs; squeezing will be done at a higher level\u001b[39;00m\n\u001b[1;32m    402\u001b[0m     \u001b[38;5;28;01massert\u001b[39;00m \u001b[38;5;28mself\u001b[39m\u001b[38;5;241m.\u001b[39mndim \u001b[38;5;241m==\u001b[39m \u001b[38;5;241m2\u001b[39m\n\u001b[0;32m--> 404\u001b[0m     result \u001b[38;5;241m=\u001b[39m \u001b[43mfunc\u001b[49m\u001b[43m(\u001b[49m\u001b[38;5;28;43mself\u001b[39;49m\u001b[38;5;241;43m.\u001b[39;49m\u001b[43mvalues\u001b[49m\u001b[43m)\u001b[49m\n\u001b[1;32m    406\u001b[0m     \u001b[38;5;28;01mif\u001b[39;00m \u001b[38;5;28mself\u001b[39m\u001b[38;5;241m.\u001b[39mvalues\u001b[38;5;241m.\u001b[39mndim \u001b[38;5;241m==\u001b[39m \u001b[38;5;241m1\u001b[39m:\n\u001b[1;32m    407\u001b[0m         res_values \u001b[38;5;241m=\u001b[39m result\n",
      "File \u001b[0;32m/opt/homebrew/Cellar/jupyterlab/4.2.5/libexec/lib/python3.12/site-packages/pandas/core/frame.py:11481\u001b[0m, in \u001b[0;36mDataFrame._reduce.<locals>.blk_func\u001b[0;34m(values, axis)\u001b[0m\n\u001b[1;32m  11479\u001b[0m         \u001b[38;5;28;01mreturn\u001b[39;00m np\u001b[38;5;241m.\u001b[39marray([result])\n\u001b[1;32m  11480\u001b[0m \u001b[38;5;28;01melse\u001b[39;00m:\n\u001b[0;32m> 11481\u001b[0m     \u001b[38;5;28;01mreturn\u001b[39;00m \u001b[43mop\u001b[49m\u001b[43m(\u001b[49m\u001b[43mvalues\u001b[49m\u001b[43m,\u001b[49m\u001b[43m \u001b[49m\u001b[43maxis\u001b[49m\u001b[38;5;241;43m=\u001b[39;49m\u001b[43maxis\u001b[49m\u001b[43m,\u001b[49m\u001b[43m \u001b[49m\u001b[43mskipna\u001b[49m\u001b[38;5;241;43m=\u001b[39;49m\u001b[43mskipna\u001b[49m\u001b[43m,\u001b[49m\u001b[43m \u001b[49m\u001b[38;5;241;43m*\u001b[39;49m\u001b[38;5;241;43m*\u001b[39;49m\u001b[43mkwds\u001b[49m\u001b[43m)\u001b[49m\n",
      "File \u001b[0;32m/opt/homebrew/Cellar/jupyterlab/4.2.5/libexec/lib/python3.12/site-packages/pandas/core/nanops.py:147\u001b[0m, in \u001b[0;36mbottleneck_switch.__call__.<locals>.f\u001b[0;34m(values, axis, skipna, **kwds)\u001b[0m\n\u001b[1;32m    145\u001b[0m         result \u001b[38;5;241m=\u001b[39m alt(values, axis\u001b[38;5;241m=\u001b[39maxis, skipna\u001b[38;5;241m=\u001b[39mskipna, \u001b[38;5;241m*\u001b[39m\u001b[38;5;241m*\u001b[39mkwds)\n\u001b[1;32m    146\u001b[0m \u001b[38;5;28;01melse\u001b[39;00m:\n\u001b[0;32m--> 147\u001b[0m     result \u001b[38;5;241m=\u001b[39m \u001b[43malt\u001b[49m\u001b[43m(\u001b[49m\u001b[43mvalues\u001b[49m\u001b[43m,\u001b[49m\u001b[43m \u001b[49m\u001b[43maxis\u001b[49m\u001b[38;5;241;43m=\u001b[39;49m\u001b[43maxis\u001b[49m\u001b[43m,\u001b[49m\u001b[43m \u001b[49m\u001b[43mskipna\u001b[49m\u001b[38;5;241;43m=\u001b[39;49m\u001b[43mskipna\u001b[49m\u001b[43m,\u001b[49m\u001b[43m \u001b[49m\u001b[38;5;241;43m*\u001b[39;49m\u001b[38;5;241;43m*\u001b[39;49m\u001b[43mkwds\u001b[49m\u001b[43m)\u001b[49m\n\u001b[1;32m    149\u001b[0m \u001b[38;5;28;01mreturn\u001b[39;00m result\n",
      "File \u001b[0;32m/opt/homebrew/Cellar/jupyterlab/4.2.5/libexec/lib/python3.12/site-packages/pandas/core/nanops.py:404\u001b[0m, in \u001b[0;36m_datetimelike_compat.<locals>.new_func\u001b[0;34m(values, axis, skipna, mask, **kwargs)\u001b[0m\n\u001b[1;32m    401\u001b[0m \u001b[38;5;28;01mif\u001b[39;00m datetimelike \u001b[38;5;129;01mand\u001b[39;00m mask \u001b[38;5;129;01mis\u001b[39;00m \u001b[38;5;28;01mNone\u001b[39;00m:\n\u001b[1;32m    402\u001b[0m     mask \u001b[38;5;241m=\u001b[39m isna(values)\n\u001b[0;32m--> 404\u001b[0m result \u001b[38;5;241m=\u001b[39m \u001b[43mfunc\u001b[49m\u001b[43m(\u001b[49m\u001b[43mvalues\u001b[49m\u001b[43m,\u001b[49m\u001b[43m \u001b[49m\u001b[43maxis\u001b[49m\u001b[38;5;241;43m=\u001b[39;49m\u001b[43maxis\u001b[49m\u001b[43m,\u001b[49m\u001b[43m \u001b[49m\u001b[43mskipna\u001b[49m\u001b[38;5;241;43m=\u001b[39;49m\u001b[43mskipna\u001b[49m\u001b[43m,\u001b[49m\u001b[43m \u001b[49m\u001b[43mmask\u001b[49m\u001b[38;5;241;43m=\u001b[39;49m\u001b[43mmask\u001b[49m\u001b[43m,\u001b[49m\u001b[43m \u001b[49m\u001b[38;5;241;43m*\u001b[39;49m\u001b[38;5;241;43m*\u001b[39;49m\u001b[43mkwargs\u001b[49m\u001b[43m)\u001b[49m\n\u001b[1;32m    406\u001b[0m \u001b[38;5;28;01mif\u001b[39;00m datetimelike:\n\u001b[1;32m    407\u001b[0m     result \u001b[38;5;241m=\u001b[39m _wrap_results(result, orig_values\u001b[38;5;241m.\u001b[39mdtype, fill_value\u001b[38;5;241m=\u001b[39miNaT)\n",
      "File \u001b[0;32m/opt/homebrew/Cellar/jupyterlab/4.2.5/libexec/lib/python3.12/site-packages/pandas/core/nanops.py:720\u001b[0m, in \u001b[0;36mnanmean\u001b[0;34m(values, axis, skipna, mask)\u001b[0m\n\u001b[1;32m    718\u001b[0m count \u001b[38;5;241m=\u001b[39m _get_counts(values\u001b[38;5;241m.\u001b[39mshape, mask, axis, dtype\u001b[38;5;241m=\u001b[39mdtype_count)\n\u001b[1;32m    719\u001b[0m the_sum \u001b[38;5;241m=\u001b[39m values\u001b[38;5;241m.\u001b[39msum(axis, dtype\u001b[38;5;241m=\u001b[39mdtype_sum)\n\u001b[0;32m--> 720\u001b[0m the_sum \u001b[38;5;241m=\u001b[39m \u001b[43m_ensure_numeric\u001b[49m\u001b[43m(\u001b[49m\u001b[43mthe_sum\u001b[49m\u001b[43m)\u001b[49m\n\u001b[1;32m    722\u001b[0m \u001b[38;5;28;01mif\u001b[39;00m axis \u001b[38;5;129;01mis\u001b[39;00m \u001b[38;5;129;01mnot\u001b[39;00m \u001b[38;5;28;01mNone\u001b[39;00m \u001b[38;5;129;01mand\u001b[39;00m \u001b[38;5;28mgetattr\u001b[39m(the_sum, \u001b[38;5;124m\"\u001b[39m\u001b[38;5;124mndim\u001b[39m\u001b[38;5;124m\"\u001b[39m, \u001b[38;5;28;01mFalse\u001b[39;00m):\n\u001b[1;32m    723\u001b[0m     count \u001b[38;5;241m=\u001b[39m cast(np\u001b[38;5;241m.\u001b[39mndarray, count)\n",
      "File \u001b[0;32m/opt/homebrew/Cellar/jupyterlab/4.2.5/libexec/lib/python3.12/site-packages/pandas/core/nanops.py:1686\u001b[0m, in \u001b[0;36m_ensure_numeric\u001b[0;34m(x)\u001b[0m\n\u001b[1;32m   1683\u001b[0m inferred \u001b[38;5;241m=\u001b[39m lib\u001b[38;5;241m.\u001b[39minfer_dtype(x)\n\u001b[1;32m   1684\u001b[0m \u001b[38;5;28;01mif\u001b[39;00m inferred \u001b[38;5;129;01min\u001b[39;00m [\u001b[38;5;124m\"\u001b[39m\u001b[38;5;124mstring\u001b[39m\u001b[38;5;124m\"\u001b[39m, \u001b[38;5;124m\"\u001b[39m\u001b[38;5;124mmixed\u001b[39m\u001b[38;5;124m\"\u001b[39m]:\n\u001b[1;32m   1685\u001b[0m     \u001b[38;5;66;03m# GH#44008, GH#36703 avoid casting e.g. strings to numeric\u001b[39;00m\n\u001b[0;32m-> 1686\u001b[0m     \u001b[38;5;28;01mraise\u001b[39;00m \u001b[38;5;167;01mTypeError\u001b[39;00m(\u001b[38;5;124mf\u001b[39m\u001b[38;5;124m\"\u001b[39m\u001b[38;5;124mCould not convert \u001b[39m\u001b[38;5;132;01m{\u001b[39;00mx\u001b[38;5;132;01m}\u001b[39;00m\u001b[38;5;124m to numeric\u001b[39m\u001b[38;5;124m\"\u001b[39m)\n\u001b[1;32m   1687\u001b[0m \u001b[38;5;28;01mtry\u001b[39;00m:\n\u001b[1;32m   1688\u001b[0m     x \u001b[38;5;241m=\u001b[39m x\u001b[38;5;241m.\u001b[39mastype(np\u001b[38;5;241m.\u001b[39mcomplex128)\n",
      "\u001b[0;31mTypeError\u001b[0m: Could not convert ['BelizeBelizeBelizeStann CreekBelizeBelizeToledoStann CreekCayoCayoCayoBelizeBelizeBelizeBelizeBelizeStann CreekBelizeBelizeStann CreekStann CreekBelizeCayoBelizeCayoCayoBelizeBelizeBelizeBelizeStann CreekCorozalBelizeBelizeBelizeBelizeBelizeBelizeBelizeBelizeBelizeBelizeCayoCorozalBelizeStann CreekBelizeBelizeBelizeBelizeBelizeBelizeBelizeBelizeCayoBelizeBelizeCayoBelizeBelizeBelizeBelizeCayoBelizeBelizeBelizeBelizeBelizeBelizeBelizeBelizeStann CreekBelizeBelizeBelizeBelizeBelizeBelizeBelizeToledoBelizeBelizeStann CreekStann CreekStann CreekBelizeBelizeBelizeBelizeBelizeBelizeCayoBelizeBelizeBelizeBelizeCayoBelizeBelizeBelizeBelizeBelizeBelizeBelizeBelizeCayoStann CreekCayoCayoBelizeBelizeStann CreekBelizeStann CreekStann CreekBelizeStann CreekBelizeBelizeBelizeBelizeBelizeBelizeBelizeOrange WalkBelizeBelizeBelizeCayoBelizeBelizeCayoBelizeBelizeBelizeStann CreekBelizeBelizeCayoBelizeBelizeBelizeStann CreekStann CreekBelizeStann CreekStann CreekBelizeCayoBelizeBelizeStann CreekCayoCayoCayoBelizeBelizeBelizeCayoCayoBelizeCayoBelizeCayoBelizeBelizeBelizeBelizeBelizeBelizeStann CreekCayoBelizeBelizeBelizeBelizeBelizeBelizeCayoCayoCayoCayoStann CreekBelizeBelizeStann CreekStann CreekCayoBelizeCayoBelizeBelizeBelizeBelizeBelizeBelizeCayoBelizeBelizeStann CreekBelizeBelizeStann CreekStann CreekBelizeBelizeStann CreekBelizeBelizeBelizeCayoBelizeBelizeCayoBelizeBelizeStann CreekBelizeBelizeBelizeBelizeCayoBelizeBelizeBelizeBelizeBelizeBelizeStann CreekStann CreekBelizeBelizeBelizeStann CreekCayoStann CreekStann CreekStann CreekBelizeBelizeCayoBelizeBelizeCayoCayoBelizeBelizeBelizeStann CreekStann CreekCayoBelizeStann CreekStann CreekStann CreekBelizeBelizeBelizeBelizeStann CreekBelizeCayoBelizeStann CreekStann CreekBelizeBelizeStann CreekBelizeBelizeBelizeBelizeBelizeCayoCayoBelizeBelizeBelizeBelizeBelizeBelizeBelizeStann CreekStann CreekStann CreekBelizeBelizeBelizeBelizeBelizeBelizeBelizeStann CreekOrange WalkCayoBelizeBelizeBelizeBelizeBelizeCayoCayoStann CreekCayoBelizeCayoBelizeBelizeBelizeBelizeStann CreekStann CreekCayoBelizeCayoOrange WalkStann CreekCorozalCorozalCayoCayoCayoCayoStann CreekStann CreekBelizeBelizeStann CreekBelizeBelizeBelizeBelizeToledoBelizeToledoCayoBelizeBelizeBelizeStann CreekBelizeStann CreekBelizeStann CreekStann CreekCayoStann CreekStann CreekStann CreekStann CreekStann CreekCayoCayoCayoCayoBelizeBelizeStann CreekBelizeBelizeCayoBelizeStann CreekStann CreekStann CreekCayoStann CreekBelizeBelizeCayoBelizeStann CreekBelizeBelizeOrange WalkCayoBelizeBelizeStann CreekStann CreekBelizeBelizeBelizeStann CreekStann CreekStann CreekStann CreekStann CreekStann CreekStann CreekStann CreekCorozalCayoCayoBelizeBelizeCayoBelizeBelizeStann CreekBelizeBelizeCorozalStann CreekBelizeStann CreekBelizeBelizeBelizeBelizeBelizeStann CreekBelizeCayoBelizeCayoCayoBelizeBelizeBelizeBelizeBelizeCayoCayoBelizeBelizeStann CreekStann CreekBelizeBelizeBelizeCayoCayoStann CreekCayoBelizeBelizeCayoCayoCayoBelizeBelizeStann CreekBelizeBelizeBelizeBelizeCorozalBelizeCayoCayoCayoStann CreekBelizeStann CreekCayoStann CreekCayoStann CreekStann CreekBelizeBelizeBelizeCayoBelizeBelizeBelizeBelizeCayoStann CreekStann CreekBelizeStann CreekBelizeStann CreekCorozalBelizeBelizeCayoCayoBelizeCayoCayoCayoBelizeBelizeBelizeBelizeCayoBelizeBelizeBelizeBelizeBelizeBelizeStann CreekStann CreekBelizeCayoBelizeCayoToledoCayoStann CreekBelizeToledoStann CreekBelizeBelizeBelizeBelizeBelizeBelizeToledoBelizeCayoStann CreekBelizeBelizeBelizeStann CreekCayoBelizeStann CreekCayoCayoCayoCayoBelizeStann CreekCayoBelizeBelizeCayoBelizeBelizeBelizeBelizeBelizeBelizeStann CreekStann CreekCayoBelizeBelizeBelizeBelizeCayoBelizeBelizeBelizeBelizeCayoStann CreekCorozalStann CreekBelizeBelizeBelizeCayoBelizeCayoCayoCayoCorozalCayoCorozalBelizeCayoCayoBelizeBelizeBelizeBelizeCayoBelizeStann CreekBelizeCayoBelizeBelizeBelizeBelizeBelizeBelizeBelizeToledoCayoCayoCayoBelizeBelizeBelizeBelizeStann CreekBelizeCayoCayoBelizeStann CreekBelizeStann CreekBelizeBelizeBelizeCayoOrange WalkCayoBelizeCayoBelizeStann CreekStann CreekBelizeStann CreekStann CreekStann CreekToledoStann CreekCayoBelizeBelizeCayoCayoStann CreekStann CreekBelizeStann CreekBelizeBelizeBelizeBelizeCayoCayoStann CreekCayoStann CreekCayoCayoCayoCayoCayoCayoStann CreekBelizeCayoBelizeBelizeBelizeBelizeCayoToledoOrange WalkBelizeBelizeBelizeBelizeBelizeStann CreekOrange WalkStann CreekBelizeCayoBelizeCayoBelizeCayoBelizeCayoCayoStann CreekCayoBelizeBelizeBelizeStann CreekBelizeStann CreekBelizeBelizeStann CreekCayoCayoBelizeBelizeBelizeCayoCayoStann CreekCayoCayoStann CreekStann CreekCayoBelizeCayoCayoCayoCayoToledoBelizeBelizeBelizeBelizeBelizeBelizeCayoBelizeCayoStann CreekBelizeCayoBelizeCayoStann CreekStann CreekStann CreekStann CreekStann CreekBelizeCayoCayoCayoBelizeCayoStann CreekStann CreekStann CreekStann CreekStann CreekCayoBelizeBelizeBelizeBelizeBelizeBelizeBelizeCayoBelizeBelizeCayoStann CreekStann CreekStann CreekBelizeBelizeBelizeBelizeBelizeStann CreekStann CreekStann CreekBelizeBelizeBelizeCayoBelizeBelizeCayoCayoBelizeStann CreekBelizeStann CreekStann CreekBelizeBelizeCorozalBelizeBelizeStann CreekBelizeStann CreekStann CreekStann CreekBelizeBelizeBelizeBelizeBelizeBelizeBelizeBelizeBelizeBelizeBelizeBelizeBelizeStann CreekBelizeStann CreekStann CreekCorozalCayoBelizeBelizeCayoBelizeBelizeBelizeBelizeBelizeBelizeCayoBelizeBelizeBelizeBelizeBelizeBelizeBelizeCorozalCorozalCorozalStann CreekStann CreekStann CreekStann CreekStann CreekBelizeBelizeBelizeBelizeBelizeBelizeBelizeCayoBelizeStann CreekBelizeBelizeCayoStann CreekBelizeStann CreekStann CreekStann CreekBelizeBelizeCayoBelizeStann CreekBelizeStann CreekBelizeBelizeStann CreekStann CreekBelizeStann CreekStann CreekStann CreekStann CreekBelizeStann CreekCayoBelizeStann CreekBelizeBelizeBelizeCayoCayoStann CreekStann CreekStann CreekBelizeBelizeBelizeBelizeBelizeBelizeBelizeStann CreekBelizeBelizeCayoCayoStann CreekBelizeBelizeBelizeBelizeStann CreekStann CreekBelizeBelizeBelizeBelizeBelizeBelizeBelizeCayoBelizeBelizeBelizeCorozalCayoStann CreekBelizeBelizeBelizeBelizeCayoBelizeBelizeBelizeBelizeCayoCayoStann CreekCayoBelizeStann CreekBelizeBelizeStann CreekBelizeCayoToledoStann CreekStann CreekBelizeBelizeBelizeBelizeBelizeBelizeBelizeBelizeBelizeBelizeBelizeStann CreekBelizeBelizeStann CreekBelizeBelizeBelizeBelizeCayoBelizeOrange WalkCayoToledoCayoStann CreekStann CreekCayoBelizeBelizeBelizeBelizeBelizeBelizeBelizeBelizeBelizeCayoCayoStann CreekCorozalBelizeCorozalCorozalCorozalCorozalCorozalBelizeBelizeCorozalCorozalCayoStann CreekStann CreekStann CreekStann CreekStann CreekStann CreekStann CreekBelizeCayoCayoCayoBelizeOrange WalkCayoBelizeBelizeStann CreekBelizeStann CreekStann CreekBelizeBelizeBelizeBelizeBelizeBelizeCorozalCayoCayoCayoCayoCorozalCayoBelizeCayoCayoCayoBelizeStann CreekBelizeStann CreekOrange WalkCayoCayoBelizeCayoStann CreekStann CreekStann CreekCayoCayoBelizeBelizeBelizeBelizeBelizeBelizeBelizeBelizeBelizeBelizeBelizeBelizeCayoBelizeStann CreekStann CreekStann CreekStann CreekCayoCayoCayoBelizeCayoStann CreekBelizeBelizeBelizeBelizeStann CreekBelizeBelizeBelizeBelizeBelizeBelizeBelizeStann CreekBelizeCayoCayoStann CreekBelizeBelizeCayoBelizeCayoBelizeCorozalStann CreekBelizeStann CreekStann CreekStann CreekBelizeBelizeOrange WalkStann CreekBelizeBelizeStann CreekBelizeStann CreekStann CreekBelizeBelizeBelizeCayoBelizeBelizeBelizeBelizeBelizeStann CreekBelizeCayoStann CreekCayoBelizeBelizeBelizeBelizeBelizeStann CreekCayoCorozalStann CreekBelizeBelizeBelizeBelizeBelizeBelizeBelizeBelizeBelizeBelizeCayoStann CreekCayoStann CreekCorozalBelizeBelizeBelizeStann CreekCayoBelizeBelizeBelizeBelizeBelizeBelizeCorozalBelizeCayoCorozalBelizeCayoCayoToledoBelizeBelizeCayoBelizeStann CreekStann CreekCayoBelizeStann CreekBelizeBelizeBelizeBelizeBelizeBelizeCayoCayoBelizeBelizeBelizeBelizeStann CreekBelizeStann CreekBelizeBelizeBelizeBelizeStann CreekCayoCorozalBelizeBelizeStann CreekStann CreekCayoCayoCayoBelizeBelizeStann CreekCayoStann CreekBelizeBelizeBelizeBelizeBelizeBelizeBelizeBelizeBelizeCayoStann CreekBelizeBelizeBelizeBelizeCayoBelizeBelizeBelizeBelizeBelizeBelizeCayoStann CreekBelizeBelizeBelizeCayoBelizeBelizeStann CreekStann CreekStann CreekOrange WalkStann CreekBelizeCayoBelizeStann CreekStann CreekStann CreekBelizeStann CreekStann CreekCayoBelizeStann CreekStann CreekBelizeBelizeCayoBelizeStann CreekCayoBelizeBelizeBelizeStann CreekStann CreekBelizeStann CreekBelizeBelizeBelizeStann CreekStann CreekCayoCayoBelizeBelizeCayoCayoCayoBelizeBelizeBelizeStann CreekStann CreekBelizeBelizeBelizeBelizeCayoBelizeBelizeBelizeBelizeBelizeBelizeCayoStann CreekBelizeCayoBelizeBelizeBelizeBelizeToledoBelizeStann CreekStann CreekBelizeStann CreekStann CreekStann CreekStann CreekStann CreekBelizeBelizeBelizeBelizeBelizeBelizeBelizeCayoCayoBelizeBelizeStann CreekBelizeCayoBelizeBelizeBelizeCayoCayoCayoCayoCayoCayoCayoCayoCayoBelizeToledoBelizeBelizeBelizeCayoBelizeBelizeCayoBelizeToledoStann CreekBelizeBelizeBelizeStann CreekStann CreekBelizeBelizeStann CreekStann CreekStann CreekStann CreekBelizeStann CreekCayoBelizeCayoCayoOrange WalkStann CreekBelizeStann CreekBelizeCayoStann CreekBelizeBelizeBelizeCayoCayoStann CreekBelizeBelizeBelizeBelizeCayoBelizeBelizeCayoBelizeStann CreekBelizeStann CreekStann CreekBelizeBelizeStann CreekBelizeStann CreekStann CreekStann CreekStann CreekStann CreekBelizeBelizeStann CreekCayoBelizeBelizeBelizeStann CreekBelizeBelizeStann CreekStann CreekBelizeBelizeBelizeCayoCayoStann CreekBelizeCayoBelizeStann CreekBelizeBelizeBelizeToledoStann CreekBelizeCayoCayoBelizeCayoBelizeBelizeOrange WalkBelizeBelizeOrange WalkCayoCayoCayoBelizeCayoBelizeBelizeBelizeBelizeStann CreekBelizeBelizeBelizeCayoStann CreekBelizeBelizeCayoBelizeBelizeStann CreekBelizeStann CreekBelizeBelizeBelizeCayoStann CreekStann CreekStann CreekBelizeBelizeBelizeBelizeBelizeBelizeBelizeStann CreekBelizeBelizeBelizeBelizeBelizeBelizeBelizeBelizeCayoBelizeCayoCayoCayoCayoBelizeCayoStann CreekCayoBelizeBelizeStann CreekStann CreekBelizeCayoBelizeBelizeBelizeBelizeBelizeBelizeBelizeCayoBelizeCayoBelizeBelizeBelizeBelizeBelizeBelizeBelizeBelizeBelizeBelizeBelizeBelizeCayoBelizeBelizeCayoBelizeBelizeCayoCayoBelizeCayoCayoCayoCayoCayoCayoCayoCayoCayoCayoBelizeBelizeCayoCayoCayoBelizeBelizeBelizeBelizeBelizeCayoBelizeBelizeBelizeStann CreekOrange WalkBelizeStann CreekStann CreekBelizeBelizeBelizeOrange WalkStann CreekBelizeStann CreekStann CreekStann CreekBelizeBelizeBelizeBelizeStann CreekBelizeBelizeBelizeStann CreekBelizeBelizeCayoBelizeStann CreekCayoBelizeBelizeBelizeBelizeCayoBelizeBelizeBelizeBelizeBelizeCayoStann CreekBelizeBelizeBelizeBelizeStann CreekBelizeBelizeBelizeBelizeBelizeCayoCayoBelizeBelizeBelizeBelizeBelizeBelizeBelizeBelizeStann CreekStann CreekCayoCayoBelizeBelizeStann CreekStann CreekBelizeBelizeBelizeStann CreekBelizeStann CreekCayoBelizeBelizeCorozalCayoBelizeStann CreekBelizeCayoStann CreekToledoCayoBelizeBelizeCayoBelizeCayoBelizeBelizeBelizeCayoCayoBelizeBelizeStann CreekBelizeCayoBelizeBelizeCayoBelizeBelizeBelizeBelizeBelizeBelizeBelizeCayoCayoBelizeCayoCorozalBelizeBelizeBelizeBelizeStann CreekToledoCayoStann CreekBelizeBelizeBelizeBelizeStann CreekBelizeBelizeStann CreekBelizeCayoStann CreekBelizeBelizeBelizeBelizeBelizeBelizeBelizeBelizeBelizeBelizeStann CreekCayoCayoBelizeBelizeCayoCayoBelizeBelizeBelizeBelizeCayoBelizeCayoBelizeBelizeBelizeStann CreekCayoBelizeBelizeCayoCayoBelizeCayoCayoBelizeBelizeBelizeBelizeCayoBelizeBelizeBelizeBelizeBelizeStann CreekCayoBelizeBelizeCayoStann CreekCayoBelizeStann CreekStann CreekBelizeBelizeBelizeCayoCayoBelizeBelizeStann CreekStann CreekBelizeCayoCayoBelizeBelizeStann CreekCayoBelizeCayoCayoBelizeBelizeStann CreekBelizeCayoStann CreekCayoStann CreekStann CreekStann CreekBelizeBelizeStann CreekCayoBelizeStann CreekBelizeBelizeStann CreekStann CreekBelizeBelizeBelizeBelizeStann CreekBelizeBelizeBelizeBelizeBelizeBelizeCayoBelizeBelizeBelizeBelizeBelizeBelizeToledoStann CreekStann CreekBelizeBelizeBelizeBelizeBelizeBelizeBelizeBelizeBelizeBelizeStann CreekCorozalBelizeBelizeBelizeBelizeBelizeCayoCayoCayoCayoCayoCayoCayoBelizeBelizeCayoBelizeCayoBelizeBelizeStann CreekStann CreekCayoCayoStann CreekCayoBelizeCorozalBelizeCayoBelizeCayoBelizeBelizeCayoToledoBelizeBelizeBelizeBelizeBelizeBelizeBelizeBelizeOrange WalkStann CreekBelizeBelizeToledoStann CreekBelizeBelizeBelizeBelizeStann CreekCayoBelizeBelizeBelizeBelizeOrange WalkStann CreekBelizeBelizeCayoCayoBelizeBelizeBelizeBelizeStann CreekBelizeBelizeBelizeBelizeBelizeCorozalStann CreekStann CreekStann CreekStann CreekBelizeBelizeBelizeCayoBelizeBelizeBelizeBelizeCayoStann CreekBelizeBelizeCayoToledoCayoOrange WalkCayoCayoBelizeCayoStann CreekBelizeStann CreekCayoBelizeBelizeCayoStann CreekStann CreekCorozalBelizeBelizeStann CreekStann CreekStann CreekBelizeBelizeBelizeStann CreekStann CreekBelizeBelizeBelizeBelizeCorozalCayoStann CreekBelizeBelizeBelizeBelizeBelizeToledoCayoStann CreekBelizeBelizeCorozalStann CreekToledoBelizeCayoBelizeStann CreekStann CreekCayoBelizeStann CreekStann CreekStann CreekStann CreekBelizeBelizeBelizeStann CreekBelizeBelizeBelizeStann CreekBelizeStann CreekBelizeBelizeBelizeBelizeBelizeBelizeBelizeCayoOrange WalkCorozalBelizeBelizeBelizeStann CreekCorozalCayoStann CreekBelizeBelizeBelizeBelizeBelizeBelizeBelizeBelizeBelizeBelizeStann CreekBelizeBelizeCayoBelizeBelizeBelizeBelizeBelizeBelizeBelizeBelizeCayoBelizeBelizeBelizeCayoBelizeBelizeBelizeBelizeBelizeCayoCayoCayoCayoCorozalStann CreekStann CreekStann CreekStann CreekBelizeBelizeStann CreekBelizeBelizeBelizeToledoToledoStann CreekBelizeBelizeCorozalStann CreekBelizeStann CreekStann CreekCorozalCorozalBelizeStann CreekStann CreekBelizeToledoToledoBelizeBelizeCorozalBelizeBelizeStann CreekStann CreekStann CreekCayoCayoStann CreekStann CreekCorozalCorozalBelizeBelizeBelizeBelizeBelizeBelizeCorozalBelizeBelizeBelizeBelizeBelizeBelizeBelizeBelizeBelizeBelizeBelizeBelizeBelizeStann CreekBelizeBelizeBelizeBelizeBelizeBelizeBelizeBelizeBelizeBelizeBelizeBelizeBelizeBelizeBelizeBelizeBelizeBelizeBelizeBelizeBelizeCayoBelizeBelizeBelizeBelizeStann CreekBelizeBelizeBelizeBelizeStann CreekBelizeCayoBelizeBelizeBelizeBelizeBelizeStann CreekStann CreekBelizeBelizeStann CreekStann CreekBelizeBelizeBelizeBelizeCayoBelizeBelizeCayoBelizeBelizeBelizeStann CreekStann CreekBelizeBelizeBelizeBelizeStann CreekBelizeCayoCayoStann CreekStann CreekBelizeBelizeCayoStann CreekBelizeCayoBelizeBelizeBelizeBelizeBelizeStann CreekStann CreekToledoBelizeBelizeBelizeBelizeBelizeStann CreekBelizeBelizeBelizeBelizeBelizeBelizeStann CreekBelizeBelizeBelizeBelizeBelizeBelizeBelizeCayoCayoBelizeBelizeBelizeBelizeStann CreekBelizeCayoCayoToledoBelizeStann CreekStann CreekCayoBelizeCayoBelizeBelizeStann CreekCayoBelizeStann CreekStann CreekBelizeStann CreekStann CreekToledoBelizeBelizeBelizeBelizeBelizeBelizeBelizeStann CreekCayoStann CreekCorozalBelizeBelizeStann CreekStann CreekStann CreekStann CreekCayoBelizeBelizeBelizeBelizeBelizeStann CreekStann CreekStann CreekBelizeStann CreekBelizeBelizeStann CreekCayoBelizeStann CreekStann CreekBelizeStann CreekBelizeCayoCayoStann CreekCayoCayoBelizeOrange WalkStann CreekBelizeBelizeCayoBelizeCayoStann CreekBelizeStann CreekStann CreekStann CreekStann CreekStann CreekBelizeBelizeBelizeBelizeStann CreekStann CreekStann CreekBelizeStann CreekBelizeStann CreekBelizeBelizeCayoCayoCayoStann CreekBelizeStann CreekBelizeBelizeStann CreekBelizeBelizeBelizeStann CreekBelizeBelizeBelizeBelizeCayoBelizeBelizeBelizeBelizeBelizeStann CreekBelizeBelizeBelizeCayoBelizeStann CreekBelizeBelizeBelizeBelizeCayoStann CreekBelizeCayoBelizeCorozalCayoBelizeBelizeBelizeBelizeCayoCorozalCorozalStann CreekBelizeCayoCayoBelizeCayoCayoCayoCayoCayoBelizeBelizeBelizeBelizeStann CreekToledoCayoBelizeBelizeStann CreekStann CreekStann CreekCayoBelizeStann CreekBelizeCayoBelizeToledoToledoBelizeCayoBelizeBelizeCayoBelizeBelizeBelizeBelizeBelizeBelizeStann CreekCayoCorozalStann CreekStann CreekBelizeBelizeToledoOrange WalkOrange WalkOrange WalkBelizeCayoCayoCayoStann CreekStann CreekStann CreekBelizeOrange WalkBelizeBelizeBelizeBelizeToledoBelizeBelizeBelizeBelizeBelizeBelizeBelizeBelizeBelizeBelizeBelizeBelizeBelizeBelizeBelizeCayoCorozalBelizeBelizeBelizeCayoBelizeStann CreekBelizeBelizeBelizeBelizeCayoStann CreekStann CreekBelizeToledoToledoBelizeToledoBelizeBelizeCayoBelizeBelizeBelizeCayoBelizeStann CreekStann CreekStann CreekStann CreekStann CreekStann CreekCayoCayoCayoCayoCayoCayoCayoStann CreekStann CreekStann CreekStann CreekStann CreekToledoToledoToledoStann CreekStann CreekToledoStann CreekStann CreekStann CreekStann CreekStann CreekStann CreekStann CreekStann CreekStann CreekCorozalCorozalCorozalBelizeStann CreekCayoCayoBelizeStann CreekOrange WalkBelizeStann CreekBelizeBelizeBelizeBelizeBelizeBelizeBelizeStann CreekStann CreekToledoToledoBelizeStann CreekBelizeBelizeBelizeStann CreekStann CreekStann CreekBelizeBelizeBelizeBelizeBelizeBelizeBelizeBelizeBelizeBelizeBelizeBelizeBelizeBelizeBelizeBelizeCorozalCorozalStann CreekCorozalStann CreekBelizeBelizeBelizeBelizeBelizeBelizeBelizeBelizeBelizeBelizeBelizeBelizeCayoBelizeCayoBelizeBelizeBelizeBelizeStann CreekBelizeBelizeBelizeBelizeBelizeBelizeBelizeBelizeBelizeBelizeBelizeBelizeBelizeBelizeBelizeBelizeBelizeBelizeBelizeBelizeBelizeBelizeBelizeBelizeBelizeBelizeBelizeBelizeBelizeBelizeBelizeBelizeCayoStann CreekStann CreekCayoStann CreekStann CreekStann CreekBelizeBelizeBelizeStann CreekStann CreekStann CreekBelizeStann CreekBelizeCayoBelizeStann CreekBelizeBelizeStann CreekCayoCayoStann CreekBelizeCayoBelizeBelizeBelizeStann CreekStann CreekBelizeCayoStann CreekCayoBelizeStann CreekBelizeStann CreekStann CreekStann CreekBelizeBelizeCayoStann CreekBelizeBelizeBelizeBelizeBelizeBelizeBelizeBelizeBelizeBelizeCayoBelizeStann CreekStann CreekBelizeBelizeBelizeStann CreekBelizeBelizeStann CreekBelizeStann CreekBelizeStann CreekStann CreekBelizeBelizeCayoBelizeCayoCayoBelizeStann CreekStann CreekStann CreekBelizeBelizeStann CreekStann CreekStann CreekOrange WalkStann CreekStann CreekStann CreekStann CreekStann CreekBelizeBelizeBelizeBelizeStann CreekStann CreekCayoCayoCayoCorozalBelizeStann CreekBelizeBelizeBelizeCayoBelizeBelizeBelizeBelizeBelizeBelizeBelizeBelizeCayoBelizeStann CreekBelizeBelizeBelizeBelizeBelizeBelizeBelizeBelizeCayoStann CreekBelizeStann CreekBelizeBelizeBelizeBelizeCayoBelizeBelizeBelizeBelizeBelizeBelizeBelizeBelizeStann CreekCayoBelizeBelizeBelizeBelizeBelizeStann CreekBelizeBelizeCayoStann CreekBelizeCayoBelizeBelizeBelizeBelizeBelizeBelizeBelizeBelizeBelizeBelizeBelizeBelizeBelizeBelizeBelizeBelizeBelizeBelizeBelizeBelizeBelizeBelizeBelizeBelizeBelizeStann CreekBelizeBelizeCayoBelizeBelizeBelizeCayoBelizeBelizeBelizeStann CreekBelizeBelizeBelizeBelizeBelizeBelizeBelizeBelizeBelizeBelizeCayoCayoCayoCayoBelizeBelizeStann CreekBelizeCorozalBelizeBelizeCayo'] to numeric"
     ]
    }
   ],
   "source": [
    "#get mean of price, minimum nights, and number of reviews\n",
    "\n",
    "belize_df[['neighbourhood_group']].mean()"
   ]
  },
  {
   "cell_type": "code",
   "execution_count": 10,
   "id": "5dc2e6e7-e3f9-4e30-9068-bd3e25083166",
   "metadata": {},
   "outputs": [
    {
     "data": {
      "text/plain": [
       "price                220.0\n",
       "minimum_nights         2.0\n",
       "number_of_reviews      2.0\n",
       "dtype: float64"
      ]
     },
     "execution_count": 10,
     "metadata": {},
     "output_type": "execute_result"
    }
   ],
   "source": [
    "belize_df[['price','minimum_nights','number_of_reviews']].median()"
   ]
  },
  {
   "cell_type": "code",
   "execution_count": 11,
   "id": "8026e155-e8d6-437c-9a00-9940b947967c",
   "metadata": {},
   "outputs": [
    {
     "data": {
      "text/html": [
       "<div>\n",
       "<style scoped>\n",
       "    .dataframe tbody tr th:only-of-type {\n",
       "        vertical-align: middle;\n",
       "    }\n",
       "\n",
       "    .dataframe tbody tr th {\n",
       "        vertical-align: top;\n",
       "    }\n",
       "\n",
       "    .dataframe thead th {\n",
       "        text-align: right;\n",
       "    }\n",
       "</style>\n",
       "<table border=\"1\" class=\"dataframe\">\n",
       "  <thead>\n",
       "    <tr style=\"text-align: right;\">\n",
       "      <th></th>\n",
       "      <th>price</th>\n",
       "      <th>minimum_nights</th>\n",
       "      <th>number_of_reviews</th>\n",
       "    </tr>\n",
       "  </thead>\n",
       "  <tbody>\n",
       "    <tr>\n",
       "      <th>0</th>\n",
       "      <td>151</td>\n",
       "      <td>1.0</td>\n",
       "      <td>0.0</td>\n",
       "    </tr>\n",
       "    <tr>\n",
       "      <th>1</th>\n",
       "      <td>252</td>\n",
       "      <td>NaN</td>\n",
       "      <td>NaN</td>\n",
       "    </tr>\n",
       "  </tbody>\n",
       "</table>\n",
       "</div>"
      ],
      "text/plain": [
       "   price  minimum_nights  number_of_reviews\n",
       "0    151             1.0                0.0\n",
       "1    252             NaN                NaN"
      ]
     },
     "execution_count": 11,
     "metadata": {},
     "output_type": "execute_result"
    }
   ],
   "source": [
    "belize_df[['price','minimum_nights','number_of_reviews']].mode()"
   ]
  },
  {
   "cell_type": "code",
   "execution_count": 15,
   "id": "9ba09741-cb57-4998-9196-e3a1a1154e60",
   "metadata": {},
   "outputs": [
    {
     "ename": "ModuleNotFoundError",
     "evalue": "No module named 'matplotlib'",
     "output_type": "error",
     "traceback": [
      "\u001b[0;31m---------------------------------------------------------------------------\u001b[0m",
      "\u001b[0;31mModuleNotFoundError\u001b[0m                       Traceback (most recent call last)",
      "Cell \u001b[0;32mIn[15], line 1\u001b[0m\n\u001b[0;32m----> 1\u001b[0m \u001b[38;5;28;01mimport\u001b[39;00m \u001b[38;5;21;01mmatplotlib\u001b[39;00m\u001b[38;5;21;01m.\u001b[39;00m\u001b[38;5;21;01mpyplot\u001b[39;00m \u001b[38;5;28;01mas\u001b[39;00m \u001b[38;5;21;01mplt\u001b[39;00m\n",
      "\u001b[0;31mModuleNotFoundError\u001b[0m: No module named 'matplotlib'"
     ]
    }
   ],
   "source": [
    "import matplotlib.pyplot as plt"
   ]
  },
  {
   "cell_type": "code",
   "execution_count": null,
   "id": "d7120559-1974-4ba6-a82d-ef94f91fa893",
   "metadata": {},
   "outputs": [],
   "source": [
    "#Variance\n",
    "\n",
    "#Variance measures how dispersed data points are from the mean. Low variance means the data points are tighly clustered around the mean. \n",
    "#High variance means the data points are spread out from the mean.\n",
    "\n",
    "#Variance is like saying the data points are on average X away froimn the mean\n",
    "\n",
    "#Variance of 0 kjeans that all the data is the same\n",
    "\n",
    "#Degrees of freedom = number indeopendent piece of information"
   ]
  },
  {
   "cell_type": "code",
   "execution_count": 14,
   "id": "d75dd216-ecc5-445f-8e06-ccc1371109ae",
   "metadata": {},
   "outputs": [
    {
     "ename": "NameError",
     "evalue": "name 'variance' is not defined",
     "output_type": "error",
     "traceback": [
      "\u001b[0;31m---------------------------------------------------------------------------\u001b[0m",
      "\u001b[0;31mNameError\u001b[0m                                 Traceback (most recent call last)",
      "Cell \u001b[0;32mIn[14], line 2\u001b[0m\n\u001b[1;32m      1\u001b[0m \u001b[38;5;66;03m# variance - 1 DOF if a sample but 0 if a population\u001b[39;00m\n\u001b[0;32m----> 2\u001b[0m \u001b[43mvariance\u001b[49m(belize_df[\u001b[38;5;124m'\u001b[39m\u001b[38;5;124mprice\u001b[39m\u001b[38;5;124m'\u001b[39m])\n",
      "\u001b[0;31mNameError\u001b[0m: name 'variance' is not defined"
     ]
    }
   ],
   "source": [
    "# variance - 1 DOF if a sample but 0 if a population\n",
    "variance(belize_df['price'])"
   ]
  },
  {
   "cell_type": "code",
   "execution_count": 16,
   "id": "aedc6ee8-80c3-4f4c-9808-7762f2677443",
   "metadata": {},
   "outputs": [
    {
     "data": {
      "text/plain": [
       "316996.15262709244"
      ]
     },
     "execution_count": 16,
     "metadata": {},
     "output_type": "execute_result"
    }
   ],
   "source": [
    "statistics.pvariance(belize_df[\"price\"])"
   ]
  },
  {
   "cell_type": "code",
   "execution_count": 18,
   "id": "faab85f1-041b-40a3-92fa-714f119b0e70",
   "metadata": {},
   "outputs": [
    {
     "data": {
      "text/plain": [
       "317109.568066315"
      ]
     },
     "execution_count": 18,
     "metadata": {},
     "output_type": "execute_result"
    }
   ],
   "source": [
    "# sample variance = 1 DOF\n",
    "# most of what we do in this class will be a sample\n",
    "statistics.variance(belize_df[\"price\"])"
   ]
  },
  {
   "cell_type": "code",
   "execution_count": null,
   "id": "f506cf6e-08e2-431a-bb75-a786f1ed79d8",
   "metadata": {},
   "outputs": [],
   "source": [
    "#Standard Deviation\n",
    "\n",
    "#Standard deviation is the square root of variance.\n",
    "\n",
    "#Why? Because square dollar dont make sense. Its hard to understanbd what that means, so we need to use units that make sense to us. We need to\n",
    "#get rid of the squared value so we have an intutiuve understanding of what we're talking about"
   ]
  },
  {
   "cell_type": "code",
   "execution_count": null,
   "id": "11a83a6d-53e9-4540-bdd0-55b346eff369",
   "metadata": {},
   "outputs": [],
   "source": [
    "statistics.stdev(belize_df"
   ]
  },
  {
   "cell_type": "code",
   "execution_count": null,
   "id": "8920ea13-8f46-4bfe-8e89-2b952db732ab",
   "metadata": {},
   "outputs": [],
   "source": [
    "#Covariance and Correlation\n",
    "\n",
    "#Covariance is to correlation what variance is to standard deviation.\n",
    "\n",
    "#Covariance tells us how much and to what extent two random varianbles change together. How much will one variable change as another variable changes\n",
    "\n",
    "#Positive = variables change in the same dorection\n",
    "\n",
    "#Negative = variables change in the opposite direction\n"
   ]
  },
  {
   "cell_type": "code",
   "execution_count": 20,
   "id": "aeb94b43-381f-410a-8e7d-3013eb4400e9",
   "metadata": {},
   "outputs": [
    {
     "data": {
      "text/plain": [
       "array([[   919.77350828,  -2055.7279794 ],\n",
       "       [ -2055.7279794 , 317109.56806632]])"
      ]
     },
     "execution_count": 20,
     "metadata": {},
     "output_type": "execute_result"
    }
   ],
   "source": [
    "np.cov(belize_df[\"number_of_reviews\"], belize_df[\"price\"])"
   ]
  },
  {
   "cell_type": "code",
   "execution_count": 21,
   "id": "04777c23-47e7-4637-9030-5921ce7021c9",
   "metadata": {},
   "outputs": [
    {
     "data": {
      "text/plain": [
       "array([[ 1.        , -0.12037063],\n",
       "       [-0.12037063,  1.        ]])"
      ]
     },
     "execution_count": 21,
     "metadata": {},
     "output_type": "execute_result"
    }
   ],
   "source": [
    "np.corrcoef(belize_df[\"number_of_reviews\"],belize_df[\"price\"])"
   ]
  },
  {
   "cell_type": "code",
   "execution_count": null,
   "id": "dbec7379-d978-4c89-b49d-aef663925c58",
   "metadata": {},
   "outputs": [],
   "source": []
  }
 ],
 "metadata": {
  "kernelspec": {
   "display_name": "Python 3 (ipykernel)",
   "language": "python",
   "name": "python3"
  },
  "language_info": {
   "codemirror_mode": {
    "name": "ipython",
    "version": 3
   },
   "file_extension": ".py",
   "mimetype": "text/x-python",
   "name": "python",
   "nbconvert_exporter": "python",
   "pygments_lexer": "ipython3",
   "version": "3.12.5"
  }
 },
 "nbformat": 4,
 "nbformat_minor": 5
}
