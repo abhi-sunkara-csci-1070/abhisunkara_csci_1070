{
 "cells": [
  {
   "cell_type": "code",
   "execution_count": null,
   "id": "e45ef40a-2027-4f09-b18e-277d816cfdce",
   "metadata": {},
   "outputs": [],
   "source": [
    "#local - only available to other code in this scope. A function, for example, only has access to the names defined in that function or passed into it via arguments\n",
    "\n",
    "#Enclosing - only exists for nested functions. Inner nests can have access to the names in outer nests\n",
    "\n",
    "#Global - available to all your code and can pass through modules, classes, etc.\n",
    "\n",
    "#Built-in - all names that are created by Python when you run a script \n",
    "\n",
    "#Constructurs - get created when you create an instance of a class\n",
    "\n",
    "#instance will always run the constructor\n",
    "\n",
    "__init__(__ is \"dunder\")\n",
    "\n",
    "SELF is a default"
   ]
  },
  {
   "cell_type": "code",
   "execution_count": 5,
   "id": "534f2424-3e85-41b8-ac88-0a901ea96568",
   "metadata": {},
   "outputs": [
    {
     "name": "stdout",
     "output_type": "stream",
     "text": [
      "2\n"
     ]
    }
   ],
   "source": [
    "class a_sample_class:\n",
    "\n",
    "    #default/basic consructor\n",
    "    def __init__(self, one, two):\n",
    "        self.var = 2\n",
    "\n",
    "    #an instance method for printing\n",
    "    def print_vars(self):\n",
    "        print(self.var)\n",
    "\n",
    "#create instance of class\n",
    "obj = a_sample_class(2,8)\n",
    "\n",
    "obj.print_vars()\n"
   ]
  },
  {
   "cell_type": "code",
   "execution_count": null,
   "id": "237fb26e-4b40-4aff-8dd6-16172602ae08",
   "metadata": {},
   "outputs": [],
   "source": [
    "class a_sample_class:\n",
    "    class_atr = 5\n",
    "\n",
    "    def __init__(self, one, two):\n",
    "        #instance attribute\n",
    "        self.first = one\n",
    "        self.second = two\n",
    "        \n",
    "#object is instance of class\n",
    "obj = s_sample_class(17,42)\n",
    "\n",
    "#instance attribute as property of object\n",
    "print(obj.first)\n",
    "\n",
    "#class attribute as property of object\n",
    "print(obj.class_attr)\n",
    "\n",
    "#insyance attribute as property of class\n",
    "print(a_sample_class.first)\n",
    "\n",
    "#class attribute as property of class\n",
    "print(a_sample_class.class_atr)\n"
   ]
  },
  {
   "cell_type": "code",
   "execution_count": null,
   "id": "a30dfb93-c1b3-4f11-b737-1f8f96f19cf3",
   "metadata": {},
   "outputs": [],
   "source": [
    "# Instance Attributes and Class Attributes\n",
    "\n",
    "#2 scopes for attributes\n",
    "\n",
    "#instance attribute = variable that belongs to a specific instance of instantiation. Defined inside the constructor (init). Can access from the scope of an object (local)\n",
    "\n",
    "#class attribute = type of variable that belongs to the class itself. Similar to the static atributes in java (not exactly the same). It is both a property of a class AND a property of the object. We can mutate a class attribute to be an instance attribute\n"
   ]
  },
  {
   "cell_type": "code",
   "execution_count": 6,
   "id": "c87da1de-3eed-4bc9-bcda-6fc494c3160a",
   "metadata": {},
   "outputs": [
    {
     "data": {
      "text/plain": [
       "{'__name__': '__main__',\n",
       " '__doc__': 'Automatically created module for IPython interactive environment',\n",
       " '__package__': None,\n",
       " '__loader__': None,\n",
       " '__spec__': None,\n",
       " '__builtin__': <module 'builtins' (built-in)>,\n",
       " '__builtins__': <module 'builtins' (built-in)>,\n",
       " '_ih': ['',\n",
       "  'class a_sample_class:\\n\\n    #default/basic consructor\\n    def__init__(self):\\n        self.var = 0\\n\\n#an instance method for printing\\ndef print_vars(self):\\n    print(self.var)\\n\\n#create instance of class\\nobj = a_sample_class()\\n\\nobj.print_vars()',\n",
       "  'class a_sample_class:\\n\\n    #default/basic consructor\\n    def __init__(self):\\n        self.var = 0\\n\\n    #an instance method for printing\\n    def print_vars(self):\\n        print(self.var)\\n\\n#create instance of class\\nobj = a_sample_class()\\n\\nobj.print_vars()',\n",
       "  'class a_sample_class:\\n\\n    #default/basic consructor\\n    def __init__(self):\\n        self.var = 0\\n\\n    #an instance method for printing\\n    def print_vars(self):\\n        print(self.var)\\n\\n#create instance of class\\nobj = a_sample_class(2,8)\\n\\nobj.print_vars()',\n",
       "  'class a_sample_class:\\n\\n    #default/basic consructor\\n    def __init__(self, one, two):\\n        self.var = 0\\n\\n    #an instance method for printing\\n    def print_vars(self):\\n        print(self.var)\\n\\n#create instance of class\\nobj = a_sample_class(2,8)\\n\\nobj.print_vars()',\n",
       "  'class a_sample_class:\\n\\n    #default/basic consructor\\n    def __init__(self, one, two):\\n        self.var = 2\\n\\n    #an instance method for printing\\n    def print_vars(self):\\n        print(self.var)\\n\\n#create instance of class\\nobj = a_sample_class(2,8)\\n\\nobj.print_vars()',\n",
       "  'globals()'],\n",
       " '_oh': {},\n",
       " '_dh': [PosixPath('/Users/abhisunkara/Documents/csci_1070_class/abhisunkara_csci_1070/week_03')],\n",
       " 'In': ['',\n",
       "  'class a_sample_class:\\n\\n    #default/basic consructor\\n    def__init__(self):\\n        self.var = 0\\n\\n#an instance method for printing\\ndef print_vars(self):\\n    print(self.var)\\n\\n#create instance of class\\nobj = a_sample_class()\\n\\nobj.print_vars()',\n",
       "  'class a_sample_class:\\n\\n    #default/basic consructor\\n    def __init__(self):\\n        self.var = 0\\n\\n    #an instance method for printing\\n    def print_vars(self):\\n        print(self.var)\\n\\n#create instance of class\\nobj = a_sample_class()\\n\\nobj.print_vars()',\n",
       "  'class a_sample_class:\\n\\n    #default/basic consructor\\n    def __init__(self):\\n        self.var = 0\\n\\n    #an instance method for printing\\n    def print_vars(self):\\n        print(self.var)\\n\\n#create instance of class\\nobj = a_sample_class(2,8)\\n\\nobj.print_vars()',\n",
       "  'class a_sample_class:\\n\\n    #default/basic consructor\\n    def __init__(self, one, two):\\n        self.var = 0\\n\\n    #an instance method for printing\\n    def print_vars(self):\\n        print(self.var)\\n\\n#create instance of class\\nobj = a_sample_class(2,8)\\n\\nobj.print_vars()',\n",
       "  'class a_sample_class:\\n\\n    #default/basic consructor\\n    def __init__(self, one, two):\\n        self.var = 2\\n\\n    #an instance method for printing\\n    def print_vars(self):\\n        print(self.var)\\n\\n#create instance of class\\nobj = a_sample_class(2,8)\\n\\nobj.print_vars()',\n",
       "  'globals()'],\n",
       " 'Out': {},\n",
       " 'get_ipython': <bound method InteractiveShell.get_ipython of <ipykernel.zmqshell.ZMQInteractiveShell object at 0x107a14800>>,\n",
       " 'exit': <IPython.core.autocall.ZMQExitAutocall at 0x110064980>,\n",
       " 'quit': <IPython.core.autocall.ZMQExitAutocall at 0x110064980>,\n",
       " 'open': <function _io.open(file, mode='r', buffering=-1, encoding=None, errors=None, newline=None, closefd=True, opener=None)>,\n",
       " '_': '',\n",
       " '__': '',\n",
       " '___': '',\n",
       " '__session__': '/Users/abhisunkara/Documents/csci_1070_class/abhisunkara_csci_1070/week_03/Untitled.ipynb',\n",
       " '_i': 'class a_sample_class:\\n\\n    #default/basic consructor\\n    def __init__(self, one, two):\\n        self.var = 2\\n\\n    #an instance method for printing\\n    def print_vars(self):\\n        print(self.var)\\n\\n#create instance of class\\nobj = a_sample_class(2,8)\\n\\nobj.print_vars()',\n",
       " '_ii': 'class a_sample_class:\\n\\n    #default/basic consructor\\n    def __init__(self, one, two):\\n        self.var = 0\\n\\n    #an instance method for printing\\n    def print_vars(self):\\n        print(self.var)\\n\\n#create instance of class\\nobj = a_sample_class(2,8)\\n\\nobj.print_vars()',\n",
       " '_iii': 'class a_sample_class:\\n\\n    #default/basic consructor\\n    def __init__(self):\\n        self.var = 0\\n\\n    #an instance method for printing\\n    def print_vars(self):\\n        print(self.var)\\n\\n#create instance of class\\nobj = a_sample_class(2,8)\\n\\nobj.print_vars()',\n",
       " '_i1': 'class a_sample_class:\\n\\n    #default/basic consructor\\n    def__init__(self):\\n        self.var = 0\\n\\n#an instance method for printing\\ndef print_vars(self):\\n    print(self.var)\\n\\n#create instance of class\\nobj = a_sample_class()\\n\\nobj.print_vars()',\n",
       " '_i2': 'class a_sample_class:\\n\\n    #default/basic consructor\\n    def __init__(self):\\n        self.var = 0\\n\\n    #an instance method for printing\\n    def print_vars(self):\\n        print(self.var)\\n\\n#create instance of class\\nobj = a_sample_class()\\n\\nobj.print_vars()',\n",
       " 'a_sample_class': __main__.a_sample_class,\n",
       " 'obj': <__main__.a_sample_class at 0x1101cc680>,\n",
       " '_i3': 'class a_sample_class:\\n\\n    #default/basic consructor\\n    def __init__(self):\\n        self.var = 0\\n\\n    #an instance method for printing\\n    def print_vars(self):\\n        print(self.var)\\n\\n#create instance of class\\nobj = a_sample_class(2,8)\\n\\nobj.print_vars()',\n",
       " '_i4': 'class a_sample_class:\\n\\n    #default/basic consructor\\n    def __init__(self, one, two):\\n        self.var = 0\\n\\n    #an instance method for printing\\n    def print_vars(self):\\n        print(self.var)\\n\\n#create instance of class\\nobj = a_sample_class(2,8)\\n\\nobj.print_vars()',\n",
       " '_i5': 'class a_sample_class:\\n\\n    #default/basic consructor\\n    def __init__(self, one, two):\\n        self.var = 2\\n\\n    #an instance method for printing\\n    def print_vars(self):\\n        print(self.var)\\n\\n#create instance of class\\nobj = a_sample_class(2,8)\\n\\nobj.print_vars()',\n",
       " '_i6': 'globals()'}"
      ]
     },
     "execution_count": 6,
     "metadata": {},
     "output_type": "execute_result"
    }
   ],
   "source": [
    "# returning the current module namespace\n",
    "# namespace = mapping between objects and cirrent names. These are defined names,\n",
    "# and they also include information about the objects each name references\n",
    "globals()"
   ]
  },
  {
   "cell_type": "code",
   "execution_count": 10,
   "id": "14644851-bad2-4c7d-ac24-d503fc40ac74",
   "metadata": {},
   "outputs": [
    {
     "ename": "SyntaxError",
     "evalue": "invalid syntax. Perhaps you forgot a comma? (3085951545.py, line 25)",
     "output_type": "error",
     "traceback": [
      "\u001b[0;36m  Cell \u001b[0;32mIn[10], line 25\u001b[0;36m\u001b[0m\n\u001b[0;31m    print(\"My favorite candy is\" [self.brand] {self.type})\u001b[0m\n\u001b[0m          ^\u001b[0m\n\u001b[0;31mSyntaxError\u001b[0m\u001b[0;31m:\u001b[0m invalid syntax. Perhaps you forgot a comma?\n"
     ]
    }
   ],
   "source": [
    "class Candy:\n",
    "    #variables that start with a single underscore are reserved for internal purposes\n",
    "    def __init__(self, _brand, \n",
    "                _is_caramel=False, \n",
    "                _is_chocolate=False, \n",
    "                _is_vegan=False, \n",
    "                _has_nuts=False,\n",
    "                _type='chocolate',\n",
    "                _calories=200):\n",
    "        self.brand = _brand\n",
    "        self.is_caramel = _is_caramel\n",
    "        self.is_chocolate = _is_chocolate\n",
    "        self.is_vegan = _is_vegan\n",
    "        self.has_nuts = _has_nuts\n",
    "        self.calories = _calories\n",
    "        self.type = _type\n",
    "\n",
    "#class method - used to modify the state of the class (for all instances)\n",
    "@classmethod\n",
    "def snickers(cls):\n",
    "    return cls('Mars' ,_is_caramel=True, _has_nuts=True)\n",
    "\n",
    "#instance method - can access and modify both the class and instance state\n",
    "#printing is acccessing state\n",
    "def dispaly(self):\n",
    "    print('My favorite candy is [self.brand] {self.type})\n",
    "#static method - used for comparison or validation\n",
    "#Commonly used im \n",
    "    "
   ]
  },
  {
   "cell_type": "code",
   "execution_count": null,
   "id": "97a0d23f-5fec-498c-9293-af50f6e85083",
   "metadata": {},
   "outputs": [],
   "source": [
    "favorite_candy = Candy(_brand='Hersheys',\n",
    "                       _is_chocolate=True,\n",
    "                       _type='Reeces'\n",
    "                      )\n",
    "favorite_candy.display()"
   ]
  },
  {
   "cell_type": "code",
   "execution_count": null,
   "id": "10e31a75-7d6c-4836-a933-d72eac83f406",
   "metadata": {},
   "outputs": [],
   "source": [
    "def the_decoratopr(func):\n",
    "    print(\"decorator is running\")\n",
    "    func()\n",
    "    print(\"still running\")\n",
    "\n",
    "def oh_hi():\n",
    "    print(\"Hello there!\")\n",
    "\n",
    "hello = the_decorator(oh_hi)\n",
    "\n",
    "def the_decorator(func):\n",
    "    print(\"decorator is running)\n",
    "    func()\n",
    "    print(\"still running\")\n",
    "\n",
    "@the_decorator\n",
    "def oh_hi():\n",
    "    print(\"Hello there!\")"
   ]
  },
  {
   "cell_type": "code",
   "execution_count": null,
   "id": "52e637e7-8949-4ddb-9efc-a2ed910a3dcb",
   "metadata": {},
   "outputs": [],
   "source": [
    "#Encapsulation - implementation details are hidden or encapsulated in objects\n",
    "#inheirtyance - child classes can inherit from parent classes and  modules\n",
    "#Polymorphism - obejcts and names exists in many forms. So, the same attribute or method can exist in multiple classes anbd mean different things, etc.\n",
    "#Abstratcion - handling a concept rather than the implementation details"
   ]
  },
  {
   "cell_type": "code",
   "execution_count": 2,
   "id": "6fc2401b-3672-4f61-b296-6a4546a49be1",
   "metadata": {},
   "outputs": [
    {
     "name": "stdout",
     "output_type": "stream",
     "text": [
      "2 (2, 3) float32\n"
     ]
    }
   ],
   "source": [
    "import numpy as np\n",
    "a = np.array([[1,2,3],[4,5,6]],dtype=np.float32)\n",
    "print(a.ndim, a.shape, a.dtype)\n",
    "\n",
    "# 1. Arrays can have any number if dimensions,inckduing zero (a scalar)\n",
    "# 2. Arrays are typed: np.uint8, np.float64, np.float64\n",
    "# 3. Arrays are dense. Each element of the array exists and had the same type\n",
    "# 4. Arrays are faster than pyhton lists (consume less memory)\n",
    "# 5. Can only combine arrays of the same shape!"
   ]
  },
  {
   "cell_type": "code",
   "execution_count": 7,
   "id": "c9a49f1d-5491-4cbb-adaf-d3af633a3b8f",
   "metadata": {},
   "outputs": [
    {
     "name": "stdout",
     "output_type": "stream",
     "text": [
      "2 (3, 3) float32\n"
     ]
    }
   ],
   "source": [
    "x = np.array([[1,2,3],[4,5,6],[7,8,9]],dtype=np.float32)\n",
    "print(x.ndim, x.shape, x.dtype)"
   ]
  },
  {
   "cell_type": "code",
   "execution_count": 8,
   "id": "0ba972d1-b4c6-431f-94d7-cf453ccd5004",
   "metadata": {},
   "outputs": [
    {
     "data": {
      "text/plain": [
       "array([[[1, 2, 3],\n",
       "        [4, 5, 6]],\n",
       "\n",
       "       [[1, 2, 3],\n",
       "        [4, 5, 6]]])"
      ]
     },
     "execution_count": 8,
     "metadata": {},
     "output_type": "execute_result"
    }
   ],
   "source": [
    "#1\n",
    "b = np.array([[[1,2,3],[4,5,6]],[[1,2,3],[4,5,6]]])\n",
    "b.ndim\n",
    "b"
   ]
  },
  {
   "cell_type": "code",
   "execution_count": null,
   "id": "b495e594-6322-4633-82b3-13bce5e2b8c8",
   "metadata": {},
   "outputs": [],
   "source": []
  },
  {
   "cell_type": "code",
   "execution_count": 10,
   "id": "8a987276-cbf4-41e5-90c8-16c65b628f9a",
   "metadata": {},
   "outputs": [
    {
     "data": {
      "text/plain": [
       "array([[[[[[1, 2, 3],\n",
       "           [4, 5, 6]],\n",
       "\n",
       "          [[1, 2, 3],\n",
       "           [4, 5, 6]]]]]])"
      ]
     },
     "execution_count": 10,
     "metadata": {},
     "output_type": "execute_result"
    }
   ],
   "source": [
    "c = np.array([[[1,2,3],[4,5,6]],[[1,2,3],[4,5,6]]], ndmin=6)\n",
    "c"
   ]
  },
  {
   "cell_type": "code",
   "execution_count": 11,
   "id": "247bcc23-375a-448a-bc54-7aeb6b81cd34",
   "metadata": {},
   "outputs": [
    {
     "data": {
      "text/plain": [
       "array([[1., 1.],\n",
       "       [1., 1.],\n",
       "       [1., 1.]])"
      ]
     },
     "execution_count": 11,
     "metadata": {},
     "output_type": "execute_result"
    }
   ],
   "source": [
    "np.ones((3,2))"
   ]
  },
  {
   "cell_type": "code",
   "execution_count": 12,
   "id": "144606c9-c8cd-45ee-8bb1-be10fed4c227",
   "metadata": {},
   "outputs": [
    {
     "data": {
      "text/plain": [
       "array([1, 2, 3, 4, 5, 6])"
      ]
     },
     "execution_count": 12,
     "metadata": {},
     "output_type": "execute_result"
    }
   ],
   "source": [
    "a = np.array([1,2,3,4,5,6])\n",
    "a"
   ]
  },
  {
   "cell_type": "code",
   "execution_count": 13,
   "id": "8a153036-ae9c-4d29-aca8-aed220f31179",
   "metadata": {},
   "outputs": [
    {
     "data": {
      "text/plain": [
       "array([[1, 2],\n",
       "       [3, 4],\n",
       "       [5, 6]])"
      ]
     },
     "execution_count": 13,
     "metadata": {},
     "output_type": "execute_result"
    }
   ],
   "source": [
    "a = a.reshape(3,2)\n",
    "a"
   ]
  },
  {
   "cell_type": "code",
   "execution_count": 14,
   "id": "f76a3118-b549-4e90-a1e0-c6a1998bc7fe",
   "metadata": {},
   "outputs": [
    {
     "data": {
      "text/plain": [
       "array([[1, 2, 3],\n",
       "       [4, 5, 6]])"
      ]
     },
     "execution_count": 14,
     "metadata": {},
     "output_type": "execute_result"
    }
   ],
   "source": [
    "a = a.reshape(2,-1)\n",
    "a"
   ]
  },
  {
   "cell_type": "code",
   "execution_count": 15,
   "id": "157dfb29-bd78-456e-9c92-a96e58d9ca82",
   "metadata": {},
   "outputs": [
    {
     "data": {
      "text/plain": [
       "array([1, 2, 3, 4, 5, 6])"
      ]
     },
     "execution_count": 15,
     "metadata": {},
     "output_type": "execute_result"
    }
   ],
   "source": [
    "a = a.ravel()\n",
    "a"
   ]
  },
  {
   "cell_type": "code",
   "execution_count": 16,
   "id": "c38010d0-66e2-4955-a2be-ca11d1cfad70",
   "metadata": {},
   "outputs": [
    {
     "data": {
      "text/plain": [
       "array([1, 2, 3, 4, 5, 6])"
      ]
     },
     "execution_count": 16,
     "metadata": {},
     "output_type": "execute_result"
    }
   ],
   "source": [
    "a = a.T\n",
    "a"
   ]
  },
  {
   "cell_type": "code",
   "execution_count": null,
   "id": "2cadd71e-1111-4327-8e87-38abaaec147b",
   "metadata": {},
   "outputs": [],
   "source": [
    "b = np.arange(10).reshape(5,2)"
   ]
  },
  {
   "cell_type": "code",
   "execution_count": 17,
   "id": "74a3db45-ae8f-4510-9c4c-2782f8e5bcf7",
   "metadata": {},
   "outputs": [
    {
     "data": {
      "text/plain": [
       "array([[[1.        , 1.41421356, 1.73205081],\n",
       "        [2.        , 2.23606798, 2.44948974]],\n",
       "\n",
       "       [[1.        , 1.41421356, 1.73205081],\n",
       "        [2.        , 2.23606798, 2.44948974]]])"
      ]
     },
     "execution_count": 17,
     "metadata": {},
     "output_type": "execute_result"
    }
   ],
   "source": [
    "np.sqrt(b)"
   ]
  },
  {
   "cell_type": "code",
   "execution_count": null,
   "id": "72587de5-d68e-4fca-95da-fb7a3fc4520d",
   "metadata": {},
   "outputs": [],
   "source": []
  }
 ],
 "metadata": {
  "kernelspec": {
   "display_name": "Python 3 (ipykernel)",
   "language": "python",
   "name": "python3"
  },
  "language_info": {
   "codemirror_mode": {
    "name": "ipython",
    "version": 3
   },
   "file_extension": ".py",
   "mimetype": "text/x-python",
   "name": "python",
   "nbconvert_exporter": "python",
   "pygments_lexer": "ipython3",
   "version": "3.12.5"
  }
 },
 "nbformat": 4,
 "nbformat_minor": 5
}
