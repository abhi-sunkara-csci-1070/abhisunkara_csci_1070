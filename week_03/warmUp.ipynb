{
 "cells": [
  {
   "cell_type": "code",
   "execution_count": 5,
   "id": "4f1f1989-8fd2-457a-bf44-bfde5255f0b8",
   "metadata": {},
   "outputs": [],
   "source": [
    "import pandas as pd\n",
    "import numpy as np\n",
    "from scipy import stats\n",
    "import math\n",
    "import statistics"
   ]
  },
  {
   "cell_type": "code",
   "execution_count": 6,
   "id": "5a92d710-b6bc-4e9e-830d-c9fca489d67d",
   "metadata": {},
   "outputs": [
    {
     "data": {
      "text/plain": [
       "0                         Braund, Mr. Owen Harris\n",
       "2                          Heikkinen, Miss. Laina\n",
       "3    Futrelle, Mrs. Jacques Heath (Lily May Peel)\n",
       "4                        Allen, Mr. William Henry\n",
       "6                         McCarthy, Mr. Timothy J\n",
       "Name: Name, dtype: object"
      ]
     },
     "execution_count": 6,
     "metadata": {},
     "output_type": "execute_result"
    }
   ],
   "source": [
    "df = pd.read_csv('titanic.csv')\n",
    "#name = df.Name.to_numpy()\n",
    "#embarked = df.Embarked.to_numpy()\n",
    "#boolean_titanic = df['Embarked'] == \"S\"\n",
    "df['Name'][df['Embarked'] == \"S\"].head()\n"
   ]
  },
  {
   "cell_type": "code",
   "execution_count": null,
   "id": "7c787aa4-fc67-4a52-9824-fe7e3c202b5a",
   "metadata": {},
   "outputs": [],
   "source": []
  }
 ],
 "metadata": {
  "kernelspec": {
   "display_name": "Python 3 (ipykernel)",
   "language": "python",
   "name": "python3"
  },
  "language_info": {
   "codemirror_mode": {
    "name": "ipython",
    "version": 3
   },
   "file_extension": ".py",
   "mimetype": "text/x-python",
   "name": "python",
   "nbconvert_exporter": "python",
   "pygments_lexer": "ipython3",
   "version": "3.12.6"
  }
 },
 "nbformat": 4,
 "nbformat_minor": 5
}
