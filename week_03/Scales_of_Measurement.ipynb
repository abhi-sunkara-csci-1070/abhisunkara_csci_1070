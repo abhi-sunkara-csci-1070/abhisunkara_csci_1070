{
 "cells": [
  {
   "cell_type": "code",
   "execution_count": null,
   "id": "e79fe2dd-04dd-4371-83fb-f892f87f69b3",
   "metadata": {},
   "outputs": [],
   "source": [
    "#Nominal - Catgeories that do not have a natural order. Ex: blood type, zip code, race\n",
    "#Ordinal - Catgeories where order matters but the differenme between them is neither clear nor even. Ex: satisfaction scores, happiness level from 1-10\n",
    "#trends in the data but its not statistically significant\n",
    "#Interval - There is order and the difference between two values is meaningful. Ex: Temperature (Celsius and Fahrenheit), credit scores, pH\n",
    "#Ratio - The same as interval expect it has a concept of 0. There are no negative numbers. Ex: concentration, Kelvin, weight\n",
    "\n",
    "#Positive skew - Mean is higher than mode and mode is less than median\n",
    "#Negative skew - Mean is less than mode and mode is greater than median\n",
    "#Symmetric - Mean, Median, Mode are in the same place\n",
    "\n",
    "#Positive correlation when x values move up, y values up\n",
    "#Negative correlation when x value gets smaller, y value gets bigger and when x value gets larger, y value gets smaller (As one goes up the other goes down)\n",
    "#No Correlation when the line is straight or flat"
   ]
  }
 ],
 "metadata": {
  "kernelspec": {
   "display_name": "Python 3 (ipykernel)",
   "language": "python",
   "name": "python3"
  },
  "language_info": {
   "codemirror_mode": {
    "name": "ipython",
    "version": 3
   },
   "file_extension": ".py",
   "mimetype": "text/x-python",
   "name": "python",
   "nbconvert_exporter": "python",
   "pygments_lexer": "ipython3",
   "version": "3.12.6"
  }
 },
 "nbformat": 4,
 "nbformat_minor": 5
}
